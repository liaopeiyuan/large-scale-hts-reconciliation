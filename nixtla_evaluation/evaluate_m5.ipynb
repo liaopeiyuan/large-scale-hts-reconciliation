{
 "cells": [
  {
   "cell_type": "markdown",
   "id": "843cf8de-d678-4243-a8af-d78439058e6a",
   "metadata": {
    "id": "843cf8de-d678-4243-a8af-d78439058e6a"
   },
   "source": [
    "## Benchmark Nixtla implementation single-process on M5"
   ]
  },
  {
   "cell_type": "code",
   "execution_count": 1,
   "id": "7f777bdd-dff4-4bc0-8529-b492874de6f0",
   "metadata": {
    "id": "7f777bdd-dff4-4bc0-8529-b492874de6f0"
   },
   "outputs": [
    {
     "name": "stdout",
     "output_type": "stream",
     "text": [
      "\u001b[33mDEPRECATION: Configuring installation scheme with distutils config files is deprecated and will no longer work in the near future. If you are using a Homebrew or Linuxbrew Python, please see discussion at https://github.com/Homebrew/homebrew-core/issues/76621\u001b[0m\u001b[33m\n",
      "\u001b[0mRequirement already satisfied: hierarchicalforecast in /home/linuxbrew/.linuxbrew/lib/python3.9/site-packages (0.2.0)\n",
      "Requirement already satisfied: numba in /home/linuxbrew/.linuxbrew/lib/python3.9/site-packages (from hierarchicalforecast) (0.56.4)\n",
      "Requirement already satisfied: numpy in /home/linuxbrew/.linuxbrew/lib/python3.9/site-packages (from hierarchicalforecast) (1.21.6)\n",
      "Requirement already satisfied: quadprog in /home/linuxbrew/.linuxbrew/lib/python3.9/site-packages (from hierarchicalforecast) (0.1.11)\n",
      "Requirement already satisfied: mycolorpy in /home/linuxbrew/.linuxbrew/lib/python3.9/site-packages (from hierarchicalforecast) (1.5.1)\n",
      "Requirement already satisfied: scikit-learn in /home/linuxbrew/.linuxbrew/lib/python3.9/site-packages (from hierarchicalforecast) (1.0.2)\n",
      "Requirement already satisfied: pandas in /home/linuxbrew/.linuxbrew/lib/python3.9/site-packages (from hierarchicalforecast) (1.3.5)\n",
      "Requirement already satisfied: matplotlib in /home/linuxbrew/.linuxbrew/lib/python3.9/site-packages (from mycolorpy->hierarchicalforecast) (3.5.1)\n",
      "Requirement already satisfied: setuptools in /home/linuxbrew/.linuxbrew/lib/python3.9/site-packages (from numba->hierarchicalforecast) (62.3.2)\n",
      "Requirement already satisfied: llvmlite<0.40,>=0.39.0dev0 in /home/linuxbrew/.linuxbrew/lib/python3.9/site-packages (from numba->hierarchicalforecast) (0.39.1)\n",
      "Requirement already satisfied: pytz>=2017.3 in /home/linuxbrew/.linuxbrew/lib/python3.9/site-packages (from pandas->hierarchicalforecast) (2021.3)\n",
      "Requirement already satisfied: python-dateutil>=2.7.3 in /home/linuxbrew/.linuxbrew/lib/python3.9/site-packages (from pandas->hierarchicalforecast) (2.8.2)\n",
      "Requirement already satisfied: scipy>=1.1.0 in /home/linuxbrew/.linuxbrew/lib/python3.9/site-packages (from scikit-learn->hierarchicalforecast) (1.7.3)\n",
      "Requirement already satisfied: threadpoolctl>=2.0.0 in /home/linuxbrew/.linuxbrew/lib/python3.9/site-packages (from scikit-learn->hierarchicalforecast) (3.1.0)\n",
      "Requirement already satisfied: joblib>=0.11 in /home/linuxbrew/.linuxbrew/lib/python3.9/site-packages (from scikit-learn->hierarchicalforecast) (1.1.0)\n",
      "Requirement already satisfied: six>=1.5 in /home/linuxbrew/.linuxbrew/lib/python3.9/site-packages (from python-dateutil>=2.7.3->pandas->hierarchicalforecast) (1.16.0)\n",
      "Requirement already satisfied: fonttools>=4.22.0 in /home/linuxbrew/.linuxbrew/lib/python3.9/site-packages (from matplotlib->mycolorpy->hierarchicalforecast) (4.32.0)\n",
      "Requirement already satisfied: cycler>=0.10 in /home/linuxbrew/.linuxbrew/lib/python3.9/site-packages (from matplotlib->mycolorpy->hierarchicalforecast) (0.11.0)\n",
      "Requirement already satisfied: pyparsing>=2.2.1 in /home/linuxbrew/.linuxbrew/lib/python3.9/site-packages (from matplotlib->mycolorpy->hierarchicalforecast) (2.4.7)\n",
      "Requirement already satisfied: packaging>=20.0 in /home/linuxbrew/.linuxbrew/lib/python3.9/site-packages (from matplotlib->mycolorpy->hierarchicalforecast) (21.3)\n",
      "Requirement already satisfied: kiwisolver>=1.0.1 in /home/linuxbrew/.linuxbrew/lib/python3.9/site-packages (from matplotlib->mycolorpy->hierarchicalforecast) (1.4.2)\n",
      "Requirement already satisfied: pillow>=6.2.0 in /home/linuxbrew/.linuxbrew/lib/python3.9/site-packages (from matplotlib->mycolorpy->hierarchicalforecast) (9.0.0)\n",
      "\u001b[33mDEPRECATION: Configuring installation scheme with distutils config files is deprecated and will no longer work in the near future. If you are using a Homebrew or Linuxbrew Python, please see discussion at https://github.com/Homebrew/homebrew-core/issues/76621\u001b[0m\u001b[33m\n",
      "\u001b[0m\u001b[33mWARNING: There was an error checking the latest version of pip.\u001b[0m\u001b[33m\n",
      "\u001b[0m\u001b[33mDEPRECATION: Configuring installation scheme with distutils config files is deprecated and will no longer work in the near future. If you are using a Homebrew or Linuxbrew Python, please see discussion at https://github.com/Homebrew/homebrew-core/issues/76621\u001b[0m\u001b[33m\n",
      "\u001b[0mRequirement already satisfied: numba in /home/linuxbrew/.linuxbrew/lib/python3.9/site-packages (0.56.4)\n",
      "Requirement already satisfied: statsforecast in /home/linuxbrew/.linuxbrew/lib/python3.9/site-packages (1.3.1)\n",
      "Requirement already satisfied: datasetsforecast in /home/linuxbrew/.linuxbrew/lib/python3.9/site-packages (0.0.7)\n",
      "Requirement already satisfied: numpy<1.24,>=1.18 in /home/linuxbrew/.linuxbrew/lib/python3.9/site-packages (from numba) (1.21.6)\n",
      "Requirement already satisfied: setuptools in /home/linuxbrew/.linuxbrew/lib/python3.9/site-packages (from numba) (62.3.2)\n",
      "Requirement already satisfied: llvmlite<0.40,>=0.39.0dev0 in /home/linuxbrew/.linuxbrew/lib/python3.9/site-packages (from numba) (0.39.1)\n",
      "Requirement already satisfied: scipy>=1.7.3 in /home/linuxbrew/.linuxbrew/lib/python3.9/site-packages (from statsforecast) (1.7.3)\n",
      "Requirement already satisfied: tqdm in /home/linuxbrew/.linuxbrew/lib/python3.9/site-packages (from statsforecast) (4.62.3)\n",
      "Requirement already satisfied: matplotlib in /home/linuxbrew/.linuxbrew/lib/python3.9/site-packages (from statsforecast) (3.5.1)\n",
      "Requirement already satisfied: pandas>=1.3.5 in /home/linuxbrew/.linuxbrew/lib/python3.9/site-packages (from statsforecast) (1.3.5)\n",
      "Requirement already satisfied: statsmodels>=0.13.2 in /home/linuxbrew/.linuxbrew/lib/python3.9/site-packages (from statsforecast) (0.13.5)\n",
      "Requirement already satisfied: requests in /home/linuxbrew/.linuxbrew/lib/python3.9/site-packages (from datasetsforecast) (2.26.0)\n",
      "Requirement already satisfied: xlrd>=1.0.0 in /home/linuxbrew/.linuxbrew/lib/python3.9/site-packages (from datasetsforecast) (2.0.1)\n",
      "Requirement already satisfied: aiohttp in /home/linuxbrew/.linuxbrew/lib/python3.9/site-packages (from datasetsforecast) (3.8.1)\n",
      "Requirement already satisfied: pytz>=2017.3 in /home/linuxbrew/.linuxbrew/lib/python3.9/site-packages (from pandas>=1.3.5->statsforecast) (2021.3)\n",
      "Requirement already satisfied: python-dateutil>=2.7.3 in /home/linuxbrew/.linuxbrew/lib/python3.9/site-packages (from pandas>=1.3.5->statsforecast) (2.8.2)\n",
      "Requirement already satisfied: patsy>=0.5.2 in /home/linuxbrew/.linuxbrew/lib/python3.9/site-packages (from statsmodels>=0.13.2->statsforecast) (0.5.3)\n",
      "Requirement already satisfied: packaging>=21.3 in /home/linuxbrew/.linuxbrew/lib/python3.9/site-packages (from statsmodels>=0.13.2->statsforecast) (21.3)\n",
      "Requirement already satisfied: frozenlist>=1.1.1 in /home/linuxbrew/.linuxbrew/lib/python3.9/site-packages (from aiohttp->datasetsforecast) (1.3.0)\n",
      "Requirement already satisfied: yarl<2.0,>=1.0 in /home/linuxbrew/.linuxbrew/lib/python3.9/site-packages (from aiohttp->datasetsforecast) (1.7.2)\n",
      "Requirement already satisfied: async-timeout<5.0,>=4.0.0a3 in /home/linuxbrew/.linuxbrew/lib/python3.9/site-packages (from aiohttp->datasetsforecast) (4.0.2)\n",
      "Requirement already satisfied: aiosignal>=1.1.2 in /home/linuxbrew/.linuxbrew/lib/python3.9/site-packages (from aiohttp->datasetsforecast) (1.2.0)\n",
      "Requirement already satisfied: charset-normalizer<3.0,>=2.0 in /home/linuxbrew/.linuxbrew/lib/python3.9/site-packages (from aiohttp->datasetsforecast) (2.0.7)\n",
      "Requirement already satisfied: attrs>=17.3.0 in /home/linuxbrew/.linuxbrew/lib/python3.9/site-packages (from aiohttp->datasetsforecast) (21.2.0)\n",
      "Requirement already satisfied: multidict<7.0,>=4.5 in /home/linuxbrew/.linuxbrew/lib/python3.9/site-packages (from aiohttp->datasetsforecast) (6.0.2)\n",
      "Requirement already satisfied: pillow>=6.2.0 in /home/linuxbrew/.linuxbrew/lib/python3.9/site-packages (from matplotlib->statsforecast) (9.0.0)\n",
      "Requirement already satisfied: cycler>=0.10 in /home/linuxbrew/.linuxbrew/lib/python3.9/site-packages (from matplotlib->statsforecast) (0.11.0)\n",
      "Requirement already satisfied: pyparsing>=2.2.1 in /home/linuxbrew/.linuxbrew/lib/python3.9/site-packages (from matplotlib->statsforecast) (2.4.7)\n",
      "Requirement already satisfied: kiwisolver>=1.0.1 in /home/linuxbrew/.linuxbrew/lib/python3.9/site-packages (from matplotlib->statsforecast) (1.4.2)\n",
      "Requirement already satisfied: fonttools>=4.22.0 in /home/linuxbrew/.linuxbrew/lib/python3.9/site-packages (from matplotlib->statsforecast) (4.32.0)\n",
      "Requirement already satisfied: urllib3<1.27,>=1.21.1 in /home/linuxbrew/.linuxbrew/lib/python3.9/site-packages (from requests->datasetsforecast) (1.26.7)\n",
      "Requirement already satisfied: certifi>=2017.4.17 in /home/linuxbrew/.linuxbrew/lib/python3.9/site-packages (from requests->datasetsforecast) (2021.10.8)\n",
      "Requirement already satisfied: idna<4,>=2.5 in /home/linuxbrew/.linuxbrew/lib/python3.9/site-packages (from requests->datasetsforecast) (3.3)\n"
     ]
    },
    {
     "name": "stdout",
     "output_type": "stream",
     "text": [
      "Requirement already satisfied: six in /home/linuxbrew/.linuxbrew/lib/python3.9/site-packages (from patsy>=0.5.2->statsmodels>=0.13.2->statsforecast) (1.16.0)\n",
      "\u001b[33mDEPRECATION: Configuring installation scheme with distutils config files is deprecated and will no longer work in the near future. If you are using a Homebrew or Linuxbrew Python, please see discussion at https://github.com/Homebrew/homebrew-core/issues/76621\u001b[0m\u001b[33m\n",
      "\u001b[0m\u001b[33mWARNING: There was an error checking the latest version of pip.\u001b[0m\u001b[33m\n",
      "\u001b[0m"
     ]
    }
   ],
   "source": [
    "!pip install hierarchicalforecast\n",
    "!pip install -U numba statsforecast datasetsforecast"
   ]
  },
  {
   "cell_type": "code",
   "execution_count": 2,
   "id": "f7a5828a-2fb4-4811-9e07-0ee291331978",
   "metadata": {
    "id": "f7a5828a-2fb4-4811-9e07-0ee291331978"
   },
   "outputs": [
    {
     "name": "stderr",
     "output_type": "stream",
     "text": [
      "/home/linuxbrew/.linuxbrew/opt/python@3.9/lib/python3.9/site-packages/statsforecast/core.py:17: TqdmExperimentalWarning: Using `tqdm.autonotebook.tqdm` in notebook mode. Use `tqdm.tqdm` instead to force console mode (e.g. in jupyter console)\n",
      "  from tqdm.autonotebook import tqdm\n"
     ]
    }
   ],
   "source": [
    "import numpy as np\n",
    "import pandas as pd\n",
    "\n",
    "#obtain hierarchical data\n",
    "from datasetsforecast.hierarchical import HierarchicalData\n",
    "\n",
    "# compute base forecast no coherent\n",
    "from statsforecast.core import StatsForecast\n",
    "from statsforecast.models import AutoARIMA, Naive\n",
    "\n",
    "#obtain hierarchical reconciliation methods and evaluation\n",
    "from hierarchicalforecast.core import HierarchicalReconciliation\n",
    "from hierarchicalforecast.evaluation import HierarchicalEvaluation\n",
    "from hierarchicalforecast.methods import BottomUp, TopDown, MiddleOut\n",
    "\n",
    "from timeit import default_timer as timer\n",
    "\n",
    "ROOT = \"/data/cmu/large-scale-hts-reconciliation/\"\n",
    "data_dir = ROOT + \"notebooks/\""
   ]
  },
  {
   "cell_type": "markdown",
   "id": "3e921d0e-ac88-440a-a961-02ef9844b403",
   "metadata": {
    "id": "3e921d0e-ac88-440a-a961-02ef9844b403"
   },
   "source": [
    "In this example we will use the `TourismSmall` dataset. The following cell gets the time series for the different levels in the hierarchy, the summing matrix `S` which recovers the full dataset from the bottom level hierarchy and the indices of each hierarchy denoted by `tags`."
   ]
  },
  {
   "cell_type": "code",
   "execution_count": 3,
   "id": "c18a4300-5b8f-45b5-92ce-e52f8c4dab20",
   "metadata": {
    "id": "c18a4300-5b8f-45b5-92ce-e52f8c4dab20"
   },
   "outputs": [],
   "source": [
    "import pickle\n",
    "\n",
    "tags = pickle.load(open(data_dir + 'm5_prediction_raw/tags.pkl', 'rb'))\n",
    "S_df = pickle.load(open(data_dir + 'm5_prediction_raw/nixtla_s.pkl', 'rb'))\n",
    "Y_df = pd.read_csv(data_dir + 'm5_prediction_raw/nixtla_y_gt.csv')\n",
    "Y_hat_df = pd.read_csv(data_dir + 'm5_prediction_raw/nixtla_y_hat.csv')\n",
    "\n",
    "#Y_df, S_df, tags = HierarchicalData.load('./data', 'TourismSmall')\n",
    "\n",
    "start = pd.to_datetime(\"2016-01-01\")\n",
    "    \n",
    "Y_df['ds'] = pd.to_datetime(Y_df['ds'].apply(lambda x: start + pd.Timedelta(days = int(x[2:]))))"
   ]
  },
  {
   "cell_type": "code",
   "execution_count": 4,
   "id": "a62a8ad5",
   "metadata": {},
   "outputs": [
    {
     "data": {
      "text/plain": [
       "0         2021-01-16\n",
       "1         2021-01-17\n",
       "2         2021-01-18\n",
       "3         2021-01-19\n",
       "4         2021-01-20\n",
       "             ...    \n",
       "3048995   2021-04-21\n",
       "3048996   2021-04-22\n",
       "3048997   2021-04-23\n",
       "3048998   2021-04-24\n",
       "3048999   2021-04-25\n",
       "Name: ds, Length: 3049000, dtype: datetime64[ns]"
      ]
     },
     "execution_count": 4,
     "metadata": {},
     "output_type": "execute_result"
    }
   ],
   "source": [
    "Y_df['ds']"
   ]
  },
  {
   "cell_type": "code",
   "execution_count": 5,
   "id": "5c6d7ad8-c219-4c95-9736-700e372ddb32",
   "metadata": {
    "id": "5c6d7ad8-c219-4c95-9736-700e372ddb32",
    "outputId": "46806c3c-28c8-495d-ddcf-b901d1006bdd"
   },
   "outputs": [
    {
     "data": {
      "text/html": [
       "<div>\n",
       "<style scoped>\n",
       "    .dataframe tbody tr th:only-of-type {\n",
       "        vertical-align: middle;\n",
       "    }\n",
       "\n",
       "    .dataframe tbody tr th {\n",
       "        vertical-align: top;\n",
       "    }\n",
       "\n",
       "    .dataframe thead th {\n",
       "        text-align: right;\n",
       "    }\n",
       "</style>\n",
       "<table border=\"1\" class=\"dataframe\">\n",
       "  <thead>\n",
       "    <tr style=\"text-align: right;\">\n",
       "      <th></th>\n",
       "      <th>unique_id</th>\n",
       "      <th>ds</th>\n",
       "      <th>y</th>\n",
       "    </tr>\n",
       "  </thead>\n",
       "  <tbody>\n",
       "    <tr>\n",
       "      <th>0</th>\n",
       "      <td>HOBBIES_1_001_CA_1</td>\n",
       "      <td>2021-01-16</td>\n",
       "      <td>4.0</td>\n",
       "    </tr>\n",
       "    <tr>\n",
       "      <th>1</th>\n",
       "      <td>HOBBIES_1_001_CA_1</td>\n",
       "      <td>2021-01-17</td>\n",
       "      <td>0.0</td>\n",
       "    </tr>\n",
       "    <tr>\n",
       "      <th>2</th>\n",
       "      <td>HOBBIES_1_001_CA_1</td>\n",
       "      <td>2021-01-18</td>\n",
       "      <td>0.0</td>\n",
       "    </tr>\n",
       "    <tr>\n",
       "      <th>3</th>\n",
       "      <td>HOBBIES_1_001_CA_1</td>\n",
       "      <td>2021-01-19</td>\n",
       "      <td>0.0</td>\n",
       "    </tr>\n",
       "    <tr>\n",
       "      <th>4</th>\n",
       "      <td>HOBBIES_1_001_CA_1</td>\n",
       "      <td>2021-01-20</td>\n",
       "      <td>0.0</td>\n",
       "    </tr>\n",
       "  </tbody>\n",
       "</table>\n",
       "</div>"
      ],
      "text/plain": [
       "            unique_id         ds    y\n",
       "0  HOBBIES_1_001_CA_1 2021-01-16  4.0\n",
       "1  HOBBIES_1_001_CA_1 2021-01-17  0.0\n",
       "2  HOBBIES_1_001_CA_1 2021-01-18  0.0\n",
       "3  HOBBIES_1_001_CA_1 2021-01-19  0.0\n",
       "4  HOBBIES_1_001_CA_1 2021-01-20  0.0"
      ]
     },
     "execution_count": 5,
     "metadata": {},
     "output_type": "execute_result"
    }
   ],
   "source": [
    "Y_df.head()"
   ]
  },
  {
   "cell_type": "code",
   "execution_count": 6,
   "id": "b964394e-6a79-4c75-be74-3c3994e1bf58",
   "metadata": {
    "id": "b964394e-6a79-4c75-be74-3c3994e1bf58",
    "outputId": "e4df6ebb-1af5-400e-9ff8-a0f00d68e882"
   },
   "outputs": [
    {
     "data": {
      "text/html": [
       "<div>\n",
       "<style scoped>\n",
       "    .dataframe tbody tr th:only-of-type {\n",
       "        vertical-align: middle;\n",
       "    }\n",
       "\n",
       "    .dataframe tbody tr th {\n",
       "        vertical-align: top;\n",
       "    }\n",
       "\n",
       "    .dataframe thead th {\n",
       "        text-align: right;\n",
       "    }\n",
       "</style>\n",
       "<table border=\"1\" class=\"dataframe\">\n",
       "  <thead>\n",
       "    <tr style=\"text-align: right;\">\n",
       "      <th></th>\n",
       "      <th>HOBBIES_1_001_CA_1</th>\n",
       "      <th>HOBBIES_1_002_CA_1</th>\n",
       "      <th>HOBBIES_1_003_CA_1</th>\n",
       "      <th>HOBBIES_1_004_CA_1</th>\n",
       "      <th>HOBBIES_1_005_CA_1</th>\n",
       "    </tr>\n",
       "  </thead>\n",
       "  <tbody>\n",
       "    <tr>\n",
       "      <th>HOBBIES</th>\n",
       "      <td>1</td>\n",
       "      <td>1</td>\n",
       "      <td>1</td>\n",
       "      <td>1</td>\n",
       "      <td>1</td>\n",
       "    </tr>\n",
       "    <tr>\n",
       "      <th>HOUSEHOLD</th>\n",
       "      <td>0</td>\n",
       "      <td>0</td>\n",
       "      <td>0</td>\n",
       "      <td>0</td>\n",
       "      <td>0</td>\n",
       "    </tr>\n",
       "    <tr>\n",
       "      <th>FOODS</th>\n",
       "      <td>0</td>\n",
       "      <td>0</td>\n",
       "      <td>0</td>\n",
       "      <td>0</td>\n",
       "      <td>0</td>\n",
       "    </tr>\n",
       "    <tr>\n",
       "      <th>HOBBIES_1</th>\n",
       "      <td>1</td>\n",
       "      <td>1</td>\n",
       "      <td>1</td>\n",
       "      <td>1</td>\n",
       "      <td>1</td>\n",
       "    </tr>\n",
       "    <tr>\n",
       "      <th>HOBBIES_2</th>\n",
       "      <td>0</td>\n",
       "      <td>0</td>\n",
       "      <td>0</td>\n",
       "      <td>0</td>\n",
       "      <td>0</td>\n",
       "    </tr>\n",
       "  </tbody>\n",
       "</table>\n",
       "</div>"
      ],
      "text/plain": [
       "           HOBBIES_1_001_CA_1  HOBBIES_1_002_CA_1  HOBBIES_1_003_CA_1  \\\n",
       "HOBBIES                     1                   1                   1   \n",
       "HOUSEHOLD                   0                   0                   0   \n",
       "FOODS                       0                   0                   0   \n",
       "HOBBIES_1                   1                   1                   1   \n",
       "HOBBIES_2                   0                   0                   0   \n",
       "\n",
       "           HOBBIES_1_004_CA_1  HOBBIES_1_005_CA_1  \n",
       "HOBBIES                     1                   1  \n",
       "HOUSEHOLD                   0                   0  \n",
       "FOODS                       0                   0  \n",
       "HOBBIES_1                   1                   1  \n",
       "HOBBIES_2                   0                   0  "
      ]
     },
     "execution_count": 6,
     "metadata": {},
     "output_type": "execute_result"
    }
   ],
   "source": [
    "S_df.iloc[:5, :5]"
   ]
  },
  {
   "cell_type": "code",
   "execution_count": 7,
   "id": "fd32f1a5-2b60-454e-afc9-6911f84f6698",
   "metadata": {
    "id": "fd32f1a5-2b60-454e-afc9-6911f84f6698",
    "outputId": "55af6598-02fe-4e48-cdad-9a4543023457"
   },
   "outputs": [
    {
     "data": {
      "text/plain": [
       "{'level_1': array(['HOBBIES', 'HOUSEHOLD', 'FOODS'], dtype=object),\n",
       " 'level_2': array(['HOBBIES_1', 'HOBBIES_2', 'HOUSEHOLD_1', 'HOUSEHOLD_2', 'FOODS_1',\n",
       "        'FOODS_2', 'FOODS_3'], dtype=object),\n",
       " 'level_3': array(['HOBBIES_1_001', 'HOBBIES_1_002', 'HOBBIES_1_003', ...,\n",
       "        'FOODS_3_825', 'FOODS_3_826', 'FOODS_3_827'], dtype=object),\n",
       " 'level_4': array(['HOBBIES_1_001_CA_1', 'HOBBIES_1_002_CA_1', 'HOBBIES_1_003_CA_1',\n",
       "        ..., 'FOODS_3_825_WI_3', 'FOODS_3_826_WI_3', 'FOODS_3_827_WI_3'],\n",
       "       dtype=object)}"
      ]
     },
     "execution_count": 7,
     "metadata": {},
     "output_type": "execute_result"
    }
   ],
   "source": [
    "tags"
   ]
  },
  {
   "cell_type": "code",
   "execution_count": 8,
   "id": "09c102fe",
   "metadata": {},
   "outputs": [
    {
     "data": {
      "text/html": [
       "<div>\n",
       "<style scoped>\n",
       "    .dataframe tbody tr th:only-of-type {\n",
       "        vertical-align: middle;\n",
       "    }\n",
       "\n",
       "    .dataframe tbody tr th {\n",
       "        vertical-align: top;\n",
       "    }\n",
       "\n",
       "    .dataframe thead th {\n",
       "        text-align: right;\n",
       "    }\n",
       "</style>\n",
       "<table border=\"1\" class=\"dataframe\">\n",
       "  <thead>\n",
       "    <tr style=\"text-align: right;\">\n",
       "      <th></th>\n",
       "      <th>unique_id</th>\n",
       "      <th>ds</th>\n",
       "      <th>prophet</th>\n",
       "    </tr>\n",
       "  </thead>\n",
       "  <tbody>\n",
       "    <tr>\n",
       "      <th>0</th>\n",
       "      <td>HOBBIES_1_001_CA_1</td>\n",
       "      <td>2021-01-16</td>\n",
       "      <td>0.641144</td>\n",
       "    </tr>\n",
       "    <tr>\n",
       "      <th>1</th>\n",
       "      <td>HOBBIES_1_001_CA_1</td>\n",
       "      <td>2021-01-17</td>\n",
       "      <td>0.855605</td>\n",
       "    </tr>\n",
       "    <tr>\n",
       "      <th>2</th>\n",
       "      <td>HOBBIES_1_001_CA_1</td>\n",
       "      <td>2021-01-18</td>\n",
       "      <td>0.713611</td>\n",
       "    </tr>\n",
       "    <tr>\n",
       "      <th>3</th>\n",
       "      <td>HOBBIES_1_001_CA_1</td>\n",
       "      <td>2021-01-19</td>\n",
       "      <td>1.213304</td>\n",
       "    </tr>\n",
       "    <tr>\n",
       "      <th>4</th>\n",
       "      <td>HOBBIES_1_001_CA_1</td>\n",
       "      <td>2021-01-20</td>\n",
       "      <td>1.142696</td>\n",
       "    </tr>\n",
       "  </tbody>\n",
       "</table>\n",
       "</div>"
      ],
      "text/plain": [
       "            unique_id         ds   prophet\n",
       "0  HOBBIES_1_001_CA_1 2021-01-16  0.641144\n",
       "1  HOBBIES_1_001_CA_1 2021-01-17  0.855605\n",
       "2  HOBBIES_1_001_CA_1 2021-01-18  0.713611\n",
       "3  HOBBIES_1_001_CA_1 2021-01-19  1.213304\n",
       "4  HOBBIES_1_001_CA_1 2021-01-20  1.142696"
      ]
     },
     "execution_count": 8,
     "metadata": {},
     "output_type": "execute_result"
    }
   ],
   "source": [
    "Y_hat_df['ds'] = pd.to_datetime(Y_hat_df['ds'].apply(lambda x: start + pd.Timedelta(days = int(x[2:]))))\n",
    "Y_hat_df.head()"
   ]
  },
  {
   "cell_type": "markdown",
   "id": "cc296762-2009-4aef-8b31-f24aad9d0787",
   "metadata": {
    "id": "cc296762-2009-4aef-8b31-f24aad9d0787"
   },
   "source": [
    "The following cell makes the previous forecasts coherent using the `HierarchicalReconciliation` class. The used methods to make the forecasts coherent are:\n",
    "- `BottomUp`: The reconciliation of the method is a simple addition to the upper levels.\n",
    "- `TopDown`: The second method constrains the base-level predictions to the top-most aggregate-level serie and then distributes it to the disaggregate series through the use of proportions. \n",
    "- `MiddleOut`: Anchors the base predictions in a middle level."
   ]
  },
  {
   "cell_type": "code",
   "execution_count": 11,
   "id": "a43be9e7-99a9-4981-bfd7-8552efba9751",
   "metadata": {
    "id": "a43be9e7-99a9-4981-bfd7-8552efba9751"
   },
   "outputs": [
    {
     "ename": "Exception",
     "evalue": "Check `S_df`, `Y_hat_df` series difference, S\\Y_hat=33549, Y_hat\\S=30490",
     "output_type": "error",
     "traceback": [
      "\u001b[0;31m---------------------------------------------------------------------------\u001b[0m",
      "\u001b[0;31mException\u001b[0m                                 Traceback (most recent call last)",
      "\u001b[0;32m/tmp/ipykernel_96046/1234909808.py\u001b[0m in \u001b[0;36m<module>\u001b[0;34m\u001b[0m\n\u001b[1;32m     13\u001b[0m \u001b[0;34m\u001b[0m\u001b[0m\n\u001b[1;32m     14\u001b[0m \u001b[0mstart\u001b[0m \u001b[0;34m=\u001b[0m \u001b[0mtimer\u001b[0m\u001b[0;34m(\u001b[0m\u001b[0;34m)\u001b[0m\u001b[0;34m\u001b[0m\u001b[0;34m\u001b[0m\u001b[0m\n\u001b[0;32m---> 15\u001b[0;31m Y_rec_df = hrec.reconcile(Y_hat_df=Y_hat, Y_df=Y, \n\u001b[0m\u001b[1;32m     16\u001b[0m                           S=S_df, tags=tags)\n\u001b[1;32m     17\u001b[0m \u001b[0mend\u001b[0m \u001b[0;34m=\u001b[0m \u001b[0mtimer\u001b[0m\u001b[0;34m(\u001b[0m\u001b[0;34m)\u001b[0m\u001b[0;34m\u001b[0m\u001b[0;34m\u001b[0m\u001b[0m\n",
      "\u001b[0;32m/home/linuxbrew/.linuxbrew/opt/python@3.9/lib/python3.9/site-packages/hierarchicalforecast/core.py\u001b[0m in \u001b[0;36mreconcile\u001b[0;34m(self, Y_hat_df, S, tags, Y_df, level, intervals_method)\u001b[0m\n\u001b[1;32m    103\u001b[0m         \u001b[0mY_hat_diff\u001b[0m \u001b[0;34m=\u001b[0m \u001b[0mlen\u001b[0m\u001b[0;34m(\u001b[0m\u001b[0mY_hat_df\u001b[0m\u001b[0;34m.\u001b[0m\u001b[0mindex\u001b[0m\u001b[0;34m.\u001b[0m\u001b[0mdifference\u001b[0m\u001b[0;34m(\u001b[0m\u001b[0mS\u001b[0m\u001b[0;34m.\u001b[0m\u001b[0mindex\u001b[0m\u001b[0;34m.\u001b[0m\u001b[0munique\u001b[0m\u001b[0;34m(\u001b[0m\u001b[0;34m)\u001b[0m\u001b[0;34m)\u001b[0m\u001b[0;34m)\u001b[0m\u001b[0;34m\u001b[0m\u001b[0;34m\u001b[0m\u001b[0m\n\u001b[1;32m    104\u001b[0m         \u001b[0;32mif\u001b[0m \u001b[0mS_diff\u001b[0m \u001b[0;34m>\u001b[0m \u001b[0;36m0\u001b[0m \u001b[0;32mor\u001b[0m \u001b[0mY_hat_diff\u001b[0m \u001b[0;34m>\u001b[0m \u001b[0;36m0\u001b[0m\u001b[0;34m:\u001b[0m\u001b[0;34m\u001b[0m\u001b[0;34m\u001b[0m\u001b[0m\n\u001b[0;32m--> 105\u001b[0;31m             \u001b[0;32mraise\u001b[0m \u001b[0mException\u001b[0m\u001b[0;34m(\u001b[0m\u001b[0;34mf'Check `S_df`, `Y_hat_df` series difference, S\\Y_hat={S_diff}, Y_hat\\S={Y_hat_diff}'\u001b[0m\u001b[0;34m)\u001b[0m\u001b[0;34m\u001b[0m\u001b[0;34m\u001b[0m\u001b[0m\n\u001b[0m\u001b[1;32m    106\u001b[0m \u001b[0;34m\u001b[0m\u001b[0m\n\u001b[1;32m    107\u001b[0m         \u001b[0;32mif\u001b[0m \u001b[0mY_df\u001b[0m \u001b[0;32mis\u001b[0m \u001b[0;32mnot\u001b[0m \u001b[0;32mNone\u001b[0m\u001b[0;34m:\u001b[0m\u001b[0;34m\u001b[0m\u001b[0;34m\u001b[0m\u001b[0m\n",
      "\u001b[0;31mException\u001b[0m: Check `S_df`, `Y_hat_df` series difference, S\\Y_hat=33549, Y_hat\\S=30490"
     ]
    }
   ],
   "source": [
    "date = '2021-01-16'\n",
    "\n",
    "Y_hat = Y_hat_df.loc[Y_hat_df['ds'] == date]\n",
    "Y = Y_df.loc[Y_df['ds'] == date]\n",
    "\n",
    "reconcilers = [\n",
    "    BottomUp(),\n",
    "    #TopDown(method='forecast_proportions'),\n",
    "    #MiddleOut(middle_level='Country/Purpose/State', \n",
    "    #          top_down_method='forecast_proportions')\n",
    "]\n",
    "hrec = HierarchicalReconciliation(reconcilers=reconcilers)\n",
    "\n",
    "start = timer()\n",
    "Y_rec_df = hrec.reconcile(Y_hat_df=Y_hat, Y_df=Y, \n",
    "                          S=S_df, tags=tags)\n",
    "end = timer()\n",
    "print(end - start)"
   ]
  },
  {
   "cell_type": "code",
   "execution_count": 13,
   "id": "0fa2aae5",
   "metadata": {},
   "outputs": [
    {
     "data": {
      "text/html": [
       "<div>\n",
       "<style scoped>\n",
       "    .dataframe tbody tr th:only-of-type {\n",
       "        vertical-align: middle;\n",
       "    }\n",
       "\n",
       "    .dataframe tbody tr th {\n",
       "        vertical-align: top;\n",
       "    }\n",
       "\n",
       "    .dataframe thead th {\n",
       "        text-align: right;\n",
       "    }\n",
       "</style>\n",
       "<table border=\"1\" class=\"dataframe\">\n",
       "  <thead>\n",
       "    <tr style=\"text-align: right;\">\n",
       "      <th></th>\n",
       "      <th>unique_id</th>\n",
       "      <th>ds</th>\n",
       "      <th>y</th>\n",
       "    </tr>\n",
       "  </thead>\n",
       "  <tbody>\n",
       "    <tr>\n",
       "      <th>0</th>\n",
       "      <td>HOBBIES_1_001_CA_1</td>\n",
       "      <td>2021-01-16</td>\n",
       "      <td>4.0</td>\n",
       "    </tr>\n",
       "    <tr>\n",
       "      <th>100</th>\n",
       "      <td>HOBBIES_1_002_CA_1</td>\n",
       "      <td>2021-01-16</td>\n",
       "      <td>0.0</td>\n",
       "    </tr>\n",
       "    <tr>\n",
       "      <th>200</th>\n",
       "      <td>HOBBIES_1_003_CA_1</td>\n",
       "      <td>2021-01-16</td>\n",
       "      <td>1.0</td>\n",
       "    </tr>\n",
       "    <tr>\n",
       "      <th>300</th>\n",
       "      <td>HOBBIES_1_004_CA_1</td>\n",
       "      <td>2021-01-16</td>\n",
       "      <td>2.0</td>\n",
       "    </tr>\n",
       "    <tr>\n",
       "      <th>400</th>\n",
       "      <td>HOBBIES_1_005_CA_1</td>\n",
       "      <td>2021-01-16</td>\n",
       "      <td>5.0</td>\n",
       "    </tr>\n",
       "    <tr>\n",
       "      <th>...</th>\n",
       "      <td>...</td>\n",
       "      <td>...</td>\n",
       "      <td>...</td>\n",
       "    </tr>\n",
       "    <tr>\n",
       "      <th>3048500</th>\n",
       "      <td>FOODS_3_823_WI_3</td>\n",
       "      <td>2021-01-16</td>\n",
       "      <td>0.0</td>\n",
       "    </tr>\n",
       "    <tr>\n",
       "      <th>3048600</th>\n",
       "      <td>FOODS_3_824_WI_3</td>\n",
       "      <td>2021-01-16</td>\n",
       "      <td>0.0</td>\n",
       "    </tr>\n",
       "    <tr>\n",
       "      <th>3048700</th>\n",
       "      <td>FOODS_3_825_WI_3</td>\n",
       "      <td>2021-01-16</td>\n",
       "      <td>0.0</td>\n",
       "    </tr>\n",
       "    <tr>\n",
       "      <th>3048800</th>\n",
       "      <td>FOODS_3_826_WI_3</td>\n",
       "      <td>2021-01-16</td>\n",
       "      <td>1.0</td>\n",
       "    </tr>\n",
       "    <tr>\n",
       "      <th>3048900</th>\n",
       "      <td>FOODS_3_827_WI_3</td>\n",
       "      <td>2021-01-16</td>\n",
       "      <td>2.0</td>\n",
       "    </tr>\n",
       "  </tbody>\n",
       "</table>\n",
       "<p>30490 rows × 3 columns</p>\n",
       "</div>"
      ],
      "text/plain": [
       "                  unique_id         ds    y\n",
       "0        HOBBIES_1_001_CA_1 2021-01-16  4.0\n",
       "100      HOBBIES_1_002_CA_1 2021-01-16  0.0\n",
       "200      HOBBIES_1_003_CA_1 2021-01-16  1.0\n",
       "300      HOBBIES_1_004_CA_1 2021-01-16  2.0\n",
       "400      HOBBIES_1_005_CA_1 2021-01-16  5.0\n",
       "...                     ...        ...  ...\n",
       "3048500    FOODS_3_823_WI_3 2021-01-16  0.0\n",
       "3048600    FOODS_3_824_WI_3 2021-01-16  0.0\n",
       "3048700    FOODS_3_825_WI_3 2021-01-16  0.0\n",
       "3048800    FOODS_3_826_WI_3 2021-01-16  1.0\n",
       "3048900    FOODS_3_827_WI_3 2021-01-16  2.0\n",
       "\n",
       "[30490 rows x 3 columns]"
      ]
     },
     "execution_count": 13,
     "metadata": {},
     "output_type": "execute_result"
    }
   ],
   "source": [
    "Y"
   ]
  },
  {
   "cell_type": "code",
   "execution_count": null,
   "id": "928471e0",
   "metadata": {},
   "outputs": [],
   "source": [
    "S_df"
   ]
  },
  {
   "cell_type": "code",
   "execution_count": null,
   "id": "14581e92",
   "metadata": {},
   "outputs": [],
   "source": []
  }
 ],
 "metadata": {
  "colab": {
   "provenance": []
  },
  "kernelspec": {
   "display_name": "Python 3 (ipykernel)",
   "language": "python",
   "name": "python3"
  },
  "language_info": {
   "codemirror_mode": {
    "name": "ipython",
    "version": 3
   },
   "file_extension": ".py",
   "mimetype": "text/x-python",
   "name": "python",
   "nbconvert_exporter": "python",
   "pygments_lexer": "ipython3",
   "version": "3.9.13"
  }
 },
 "nbformat": 4,
 "nbformat_minor": 5
}
