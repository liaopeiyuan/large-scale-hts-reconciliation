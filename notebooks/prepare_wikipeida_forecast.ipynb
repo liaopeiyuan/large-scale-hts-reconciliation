{
 "cells": [
  {
   "cell_type": "markdown",
   "id": "51e47a11",
   "metadata": {},
   "source": [
    "## Generating Benchmark Data for Wikipedia Dataset\n",
    "\n",
    "The data is taken from the [Web Traffic Time Series Forecasting\n",
    "](https://www.kaggle.com/competitions/web-traffic-time-series-forecasting/overview) challenge on Kaggle, a research competiton organized by Google ($25,000)."
   ]
  },
  {
   "cell_type": "code",
   "execution_count": null,
   "id": "430582a5",
   "metadata": {},
   "outputs": [],
   "source": []
  }
 ],
 "metadata": {
  "kernelspec": {
   "display_name": "test",
   "language": "python",
   "name": "test"
  },
  "language_info": {
   "codemirror_mode": {
    "name": "ipython",
    "version": 3
   },
   "file_extension": ".py",
   "mimetype": "text/x-python",
   "name": "python",
   "nbconvert_exporter": "python",
   "pygments_lexer": "ipython3",
   "version": "3.7.13"
  }
 },
 "nbformat": 4,
 "nbformat_minor": 5
}
