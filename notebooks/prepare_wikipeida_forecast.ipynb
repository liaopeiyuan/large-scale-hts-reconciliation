{
 "cells": [
  {
   "cell_type": "markdown",
   "id": "8b27f100",
   "metadata": {},
   "source": [
    "## Generating Benchmark Data for Wikipedia Dataset\n",
    "\n",
    "The data is taken from the [Web Traffic Time Series Forecasting\n",
    "](https://www.kaggle.com/competitions/web-traffic-time-series-forecasting/overview) challenge on Kaggle, a research competiton organized by Google ($25,000)."
   ]
  },
  {
   "cell_type": "code",
   "execution_count": 12,
   "id": "85c18783",
   "metadata": {},
   "outputs": [],
   "source": [
    "ROOT = \"/data/cmu/large-scale-hts-reconciliation/\"\n",
    "data_dir = ROOT + \"notebooks/\""
   ]
  },
  {
   "cell_type": "code",
   "execution_count": 13,
   "id": "b88cdcaf",
   "metadata": {},
   "outputs": [],
   "source": [
    "import pandas as pd\n",
    "import numpy as np\n",
    "import matplotlib.pyplot as plt\n",
    "from prophet import Prophet\n",
    "from tqdm import tqdm"
   ]
  },
  {
   "cell_type": "code",
   "execution_count": 14,
   "id": "3500b80c",
   "metadata": {},
   "outputs": [
    {
     "data": {
      "text/html": [
       "<div>\n",
       "<style scoped>\n",
       "    .dataframe tbody tr th:only-of-type {\n",
       "        vertical-align: middle;\n",
       "    }\n",
       "\n",
       "    .dataframe tbody tr th {\n",
       "        vertical-align: top;\n",
       "    }\n",
       "\n",
       "    .dataframe thead th {\n",
       "        text-align: right;\n",
       "    }\n",
       "</style>\n",
       "<table border=\"1\" class=\"dataframe\">\n",
       "  <thead>\n",
       "    <tr style=\"text-align: right;\">\n",
       "      <th></th>\n",
       "      <th>Page</th>\n",
       "      <th>2015-07-01</th>\n",
       "      <th>2015-07-02</th>\n",
       "      <th>2015-07-03</th>\n",
       "      <th>2015-07-04</th>\n",
       "      <th>2015-07-05</th>\n",
       "      <th>2015-07-06</th>\n",
       "      <th>2015-07-07</th>\n",
       "      <th>2015-07-08</th>\n",
       "      <th>2015-07-09</th>\n",
       "      <th>...</th>\n",
       "      <th>2016-12-22</th>\n",
       "      <th>2016-12-23</th>\n",
       "      <th>2016-12-24</th>\n",
       "      <th>2016-12-25</th>\n",
       "      <th>2016-12-26</th>\n",
       "      <th>2016-12-27</th>\n",
       "      <th>2016-12-28</th>\n",
       "      <th>2016-12-29</th>\n",
       "      <th>2016-12-30</th>\n",
       "      <th>2016-12-31</th>\n",
       "    </tr>\n",
       "  </thead>\n",
       "  <tbody>\n",
       "    <tr>\n",
       "      <th>0</th>\n",
       "      <td>2NE1_zh.wikipedia.org_all-access_spider</td>\n",
       "      <td>18.0</td>\n",
       "      <td>11.0</td>\n",
       "      <td>5.0</td>\n",
       "      <td>13.0</td>\n",
       "      <td>14.0</td>\n",
       "      <td>9.0</td>\n",
       "      <td>9.0</td>\n",
       "      <td>22.0</td>\n",
       "      <td>26.0</td>\n",
       "      <td>...</td>\n",
       "      <td>32.0</td>\n",
       "      <td>63.0</td>\n",
       "      <td>15.0</td>\n",
       "      <td>26.0</td>\n",
       "      <td>14.0</td>\n",
       "      <td>20.0</td>\n",
       "      <td>22.0</td>\n",
       "      <td>19.0</td>\n",
       "      <td>18.0</td>\n",
       "      <td>20.0</td>\n",
       "    </tr>\n",
       "    <tr>\n",
       "      <th>1</th>\n",
       "      <td>2PM_zh.wikipedia.org_all-access_spider</td>\n",
       "      <td>11.0</td>\n",
       "      <td>14.0</td>\n",
       "      <td>15.0</td>\n",
       "      <td>18.0</td>\n",
       "      <td>11.0</td>\n",
       "      <td>13.0</td>\n",
       "      <td>22.0</td>\n",
       "      <td>11.0</td>\n",
       "      <td>10.0</td>\n",
       "      <td>...</td>\n",
       "      <td>17.0</td>\n",
       "      <td>42.0</td>\n",
       "      <td>28.0</td>\n",
       "      <td>15.0</td>\n",
       "      <td>9.0</td>\n",
       "      <td>30.0</td>\n",
       "      <td>52.0</td>\n",
       "      <td>45.0</td>\n",
       "      <td>26.0</td>\n",
       "      <td>20.0</td>\n",
       "    </tr>\n",
       "    <tr>\n",
       "      <th>2</th>\n",
       "      <td>3C_zh.wikipedia.org_all-access_spider</td>\n",
       "      <td>1.0</td>\n",
       "      <td>0.0</td>\n",
       "      <td>1.0</td>\n",
       "      <td>1.0</td>\n",
       "      <td>0.0</td>\n",
       "      <td>4.0</td>\n",
       "      <td>0.0</td>\n",
       "      <td>3.0</td>\n",
       "      <td>4.0</td>\n",
       "      <td>...</td>\n",
       "      <td>3.0</td>\n",
       "      <td>1.0</td>\n",
       "      <td>1.0</td>\n",
       "      <td>7.0</td>\n",
       "      <td>4.0</td>\n",
       "      <td>4.0</td>\n",
       "      <td>6.0</td>\n",
       "      <td>3.0</td>\n",
       "      <td>4.0</td>\n",
       "      <td>17.0</td>\n",
       "    </tr>\n",
       "    <tr>\n",
       "      <th>3</th>\n",
       "      <td>4minute_zh.wikipedia.org_all-access_spider</td>\n",
       "      <td>35.0</td>\n",
       "      <td>13.0</td>\n",
       "      <td>10.0</td>\n",
       "      <td>94.0</td>\n",
       "      <td>4.0</td>\n",
       "      <td>26.0</td>\n",
       "      <td>14.0</td>\n",
       "      <td>9.0</td>\n",
       "      <td>11.0</td>\n",
       "      <td>...</td>\n",
       "      <td>32.0</td>\n",
       "      <td>10.0</td>\n",
       "      <td>26.0</td>\n",
       "      <td>27.0</td>\n",
       "      <td>16.0</td>\n",
       "      <td>11.0</td>\n",
       "      <td>17.0</td>\n",
       "      <td>19.0</td>\n",
       "      <td>10.0</td>\n",
       "      <td>11.0</td>\n",
       "    </tr>\n",
       "    <tr>\n",
       "      <th>4</th>\n",
       "      <td>52_Hz_I_Love_You_zh.wikipedia.org_all-access_s...</td>\n",
       "      <td>0.0</td>\n",
       "      <td>0.0</td>\n",
       "      <td>0.0</td>\n",
       "      <td>0.0</td>\n",
       "      <td>0.0</td>\n",
       "      <td>0.0</td>\n",
       "      <td>0.0</td>\n",
       "      <td>0.0</td>\n",
       "      <td>0.0</td>\n",
       "      <td>...</td>\n",
       "      <td>48.0</td>\n",
       "      <td>9.0</td>\n",
       "      <td>25.0</td>\n",
       "      <td>13.0</td>\n",
       "      <td>3.0</td>\n",
       "      <td>11.0</td>\n",
       "      <td>27.0</td>\n",
       "      <td>13.0</td>\n",
       "      <td>36.0</td>\n",
       "      <td>10.0</td>\n",
       "    </tr>\n",
       "    <tr>\n",
       "      <th>...</th>\n",
       "      <td>...</td>\n",
       "      <td>...</td>\n",
       "      <td>...</td>\n",
       "      <td>...</td>\n",
       "      <td>...</td>\n",
       "      <td>...</td>\n",
       "      <td>...</td>\n",
       "      <td>...</td>\n",
       "      <td>...</td>\n",
       "      <td>...</td>\n",
       "      <td>...</td>\n",
       "      <td>...</td>\n",
       "      <td>...</td>\n",
       "      <td>...</td>\n",
       "      <td>...</td>\n",
       "      <td>...</td>\n",
       "      <td>...</td>\n",
       "      <td>...</td>\n",
       "      <td>...</td>\n",
       "      <td>...</td>\n",
       "      <td>...</td>\n",
       "    </tr>\n",
       "    <tr>\n",
       "      <th>145058</th>\n",
       "      <td>Underworld_(serie_de_películas)_es.wikipedia.o...</td>\n",
       "      <td>0.0</td>\n",
       "      <td>0.0</td>\n",
       "      <td>0.0</td>\n",
       "      <td>0.0</td>\n",
       "      <td>0.0</td>\n",
       "      <td>0.0</td>\n",
       "      <td>0.0</td>\n",
       "      <td>0.0</td>\n",
       "      <td>0.0</td>\n",
       "      <td>...</td>\n",
       "      <td>0.0</td>\n",
       "      <td>0.0</td>\n",
       "      <td>0.0</td>\n",
       "      <td>0.0</td>\n",
       "      <td>13.0</td>\n",
       "      <td>12.0</td>\n",
       "      <td>13.0</td>\n",
       "      <td>3.0</td>\n",
       "      <td>5.0</td>\n",
       "      <td>10.0</td>\n",
       "    </tr>\n",
       "    <tr>\n",
       "      <th>145059</th>\n",
       "      <td>Resident_Evil:_Capítulo_Final_es.wikipedia.org...</td>\n",
       "      <td>0.0</td>\n",
       "      <td>0.0</td>\n",
       "      <td>0.0</td>\n",
       "      <td>0.0</td>\n",
       "      <td>0.0</td>\n",
       "      <td>0.0</td>\n",
       "      <td>0.0</td>\n",
       "      <td>0.0</td>\n",
       "      <td>0.0</td>\n",
       "      <td>...</td>\n",
       "      <td>0.0</td>\n",
       "      <td>0.0</td>\n",
       "      <td>0.0</td>\n",
       "      <td>0.0</td>\n",
       "      <td>0.0</td>\n",
       "      <td>0.0</td>\n",
       "      <td>0.0</td>\n",
       "      <td>0.0</td>\n",
       "      <td>0.0</td>\n",
       "      <td>0.0</td>\n",
       "    </tr>\n",
       "    <tr>\n",
       "      <th>145060</th>\n",
       "      <td>Enamorándome_de_Ramón_es.wikipedia.org_all-acc...</td>\n",
       "      <td>0.0</td>\n",
       "      <td>0.0</td>\n",
       "      <td>0.0</td>\n",
       "      <td>0.0</td>\n",
       "      <td>0.0</td>\n",
       "      <td>0.0</td>\n",
       "      <td>0.0</td>\n",
       "      <td>0.0</td>\n",
       "      <td>0.0</td>\n",
       "      <td>...</td>\n",
       "      <td>0.0</td>\n",
       "      <td>0.0</td>\n",
       "      <td>0.0</td>\n",
       "      <td>0.0</td>\n",
       "      <td>0.0</td>\n",
       "      <td>0.0</td>\n",
       "      <td>0.0</td>\n",
       "      <td>0.0</td>\n",
       "      <td>0.0</td>\n",
       "      <td>0.0</td>\n",
       "    </tr>\n",
       "    <tr>\n",
       "      <th>145061</th>\n",
       "      <td>Hasta_el_último_hombre_es.wikipedia.org_all-ac...</td>\n",
       "      <td>0.0</td>\n",
       "      <td>0.0</td>\n",
       "      <td>0.0</td>\n",
       "      <td>0.0</td>\n",
       "      <td>0.0</td>\n",
       "      <td>0.0</td>\n",
       "      <td>0.0</td>\n",
       "      <td>0.0</td>\n",
       "      <td>0.0</td>\n",
       "      <td>...</td>\n",
       "      <td>0.0</td>\n",
       "      <td>0.0</td>\n",
       "      <td>0.0</td>\n",
       "      <td>0.0</td>\n",
       "      <td>0.0</td>\n",
       "      <td>0.0</td>\n",
       "      <td>0.0</td>\n",
       "      <td>0.0</td>\n",
       "      <td>0.0</td>\n",
       "      <td>0.0</td>\n",
       "    </tr>\n",
       "    <tr>\n",
       "      <th>145062</th>\n",
       "      <td>Francisco_el_matemático_(serie_de_televisión_d...</td>\n",
       "      <td>0.0</td>\n",
       "      <td>0.0</td>\n",
       "      <td>0.0</td>\n",
       "      <td>0.0</td>\n",
       "      <td>0.0</td>\n",
       "      <td>0.0</td>\n",
       "      <td>0.0</td>\n",
       "      <td>0.0</td>\n",
       "      <td>0.0</td>\n",
       "      <td>...</td>\n",
       "      <td>0.0</td>\n",
       "      <td>0.0</td>\n",
       "      <td>0.0</td>\n",
       "      <td>0.0</td>\n",
       "      <td>0.0</td>\n",
       "      <td>0.0</td>\n",
       "      <td>0.0</td>\n",
       "      <td>0.0</td>\n",
       "      <td>0.0</td>\n",
       "      <td>0.0</td>\n",
       "    </tr>\n",
       "  </tbody>\n",
       "</table>\n",
       "<p>145063 rows × 551 columns</p>\n",
       "</div>"
      ],
      "text/plain": [
       "                                                     Page  2015-07-01  \\\n",
       "0                 2NE1_zh.wikipedia.org_all-access_spider        18.0   \n",
       "1                  2PM_zh.wikipedia.org_all-access_spider        11.0   \n",
       "2                   3C_zh.wikipedia.org_all-access_spider         1.0   \n",
       "3              4minute_zh.wikipedia.org_all-access_spider        35.0   \n",
       "4       52_Hz_I_Love_You_zh.wikipedia.org_all-access_s...         0.0   \n",
       "...                                                   ...         ...   \n",
       "145058  Underworld_(serie_de_películas)_es.wikipedia.o...         0.0   \n",
       "145059  Resident_Evil:_Capítulo_Final_es.wikipedia.org...         0.0   \n",
       "145060  Enamorándome_de_Ramón_es.wikipedia.org_all-acc...         0.0   \n",
       "145061  Hasta_el_último_hombre_es.wikipedia.org_all-ac...         0.0   \n",
       "145062  Francisco_el_matemático_(serie_de_televisión_d...         0.0   \n",
       "\n",
       "        2015-07-02  2015-07-03  2015-07-04  2015-07-05  2015-07-06  \\\n",
       "0             11.0         5.0        13.0        14.0         9.0   \n",
       "1             14.0        15.0        18.0        11.0        13.0   \n",
       "2              0.0         1.0         1.0         0.0         4.0   \n",
       "3             13.0        10.0        94.0         4.0        26.0   \n",
       "4              0.0         0.0         0.0         0.0         0.0   \n",
       "...            ...         ...         ...         ...         ...   \n",
       "145058         0.0         0.0         0.0         0.0         0.0   \n",
       "145059         0.0         0.0         0.0         0.0         0.0   \n",
       "145060         0.0         0.0         0.0         0.0         0.0   \n",
       "145061         0.0         0.0         0.0         0.0         0.0   \n",
       "145062         0.0         0.0         0.0         0.0         0.0   \n",
       "\n",
       "        2015-07-07  2015-07-08  2015-07-09  ...  2016-12-22  2016-12-23  \\\n",
       "0              9.0        22.0        26.0  ...        32.0        63.0   \n",
       "1             22.0        11.0        10.0  ...        17.0        42.0   \n",
       "2              0.0         3.0         4.0  ...         3.0         1.0   \n",
       "3             14.0         9.0        11.0  ...        32.0        10.0   \n",
       "4              0.0         0.0         0.0  ...        48.0         9.0   \n",
       "...            ...         ...         ...  ...         ...         ...   \n",
       "145058         0.0         0.0         0.0  ...         0.0         0.0   \n",
       "145059         0.0         0.0         0.0  ...         0.0         0.0   \n",
       "145060         0.0         0.0         0.0  ...         0.0         0.0   \n",
       "145061         0.0         0.0         0.0  ...         0.0         0.0   \n",
       "145062         0.0         0.0         0.0  ...         0.0         0.0   \n",
       "\n",
       "        2016-12-24  2016-12-25  2016-12-26  2016-12-27  2016-12-28  \\\n",
       "0             15.0        26.0        14.0        20.0        22.0   \n",
       "1             28.0        15.0         9.0        30.0        52.0   \n",
       "2              1.0         7.0         4.0         4.0         6.0   \n",
       "3             26.0        27.0        16.0        11.0        17.0   \n",
       "4             25.0        13.0         3.0        11.0        27.0   \n",
       "...            ...         ...         ...         ...         ...   \n",
       "145058         0.0         0.0        13.0        12.0        13.0   \n",
       "145059         0.0         0.0         0.0         0.0         0.0   \n",
       "145060         0.0         0.0         0.0         0.0         0.0   \n",
       "145061         0.0         0.0         0.0         0.0         0.0   \n",
       "145062         0.0         0.0         0.0         0.0         0.0   \n",
       "\n",
       "        2016-12-29  2016-12-30  2016-12-31  \n",
       "0             19.0        18.0        20.0  \n",
       "1             45.0        26.0        20.0  \n",
       "2              3.0         4.0        17.0  \n",
       "3             19.0        10.0        11.0  \n",
       "4             13.0        36.0        10.0  \n",
       "...            ...         ...         ...  \n",
       "145058         3.0         5.0        10.0  \n",
       "145059         0.0         0.0         0.0  \n",
       "145060         0.0         0.0         0.0  \n",
       "145061         0.0         0.0         0.0  \n",
       "145062         0.0         0.0         0.0  \n",
       "\n",
       "[145063 rows x 551 columns]"
      ]
     },
     "execution_count": 14,
     "metadata": {},
     "output_type": "execute_result"
    }
   ],
   "source": [
    "df = pd.read_csv(data_dir + 'train_1.csv').fillna(0)\n",
    "df"
   ]
  },
  {
   "cell_type": "markdown",
   "id": "a9af56f2",
   "metadata": {},
   "source": [
    "Forecasting is done on a separate file. Here's what it roughly looks like.\n",
    "\n",
    "```python\n",
    "import dask.dataframe as dd\n",
    "\n",
    "ddf = dd.from_pandas(df, npartitions=120) # over-subscribing\n",
    "\n",
    "forecast_horizon = 100\n",
    "\n",
    "def predict(row):\n",
    "    data = pd.DataFrame({'ds': (row.index)[1:][-forecast_horizon:], 'y':(row.values)[1:][-forecast_horizon:]})\n",
    "    m = Prophet()\n",
    "    m.fit(data)\n",
    "    \n",
    "    future = m.make_future_dataframe(periods=forecast_horizon)\n",
    "    future.tail()\n",
    "    forecast = m.predict(future)\n",
    "\n",
    "    return row.Page, forecast[['yhat']][-forecast_horizon:].values.reshape(-1)\n",
    "```"
   ]
  },
  {
   "cell_type": "markdown",
   "id": "dde9d3f5",
   "metadata": {},
   "source": [
    "### Sanity check by plotting"
   ]
  },
  {
   "cell_type": "code",
   "execution_count": 15,
   "id": "0cca2782",
   "metadata": {},
   "outputs": [],
   "source": [
    "import pickle\n",
    "predictions = pickle.load(open(data_dir + 'wikipedia_time_series_prediction_raw/result.pkl', 'rb'))"
   ]
  },
  {
   "cell_type": "code",
   "execution_count": 16,
   "id": "baa08712",
   "metadata": {},
   "outputs": [
    {
     "name": "stdout",
     "output_type": "stream",
     "text": [
      "SMAPE:  69.803\n"
     ]
    },
    {
     "data": {
      "image/png": "[encoded data removed]",
      "text/plain": [
       "<Figure size 432x288 with 1 Axes>"
      ]
     },
     "metadata": {
      "needs_background": "light"
     },
     "output_type": "display_data"
    }
   ],
   "source": [
    "import seaborn as sns\n",
    "\n",
    "def smape(a, f):\n",
    "    return 1/len(a) * np.sum(2 * np.abs(f-a) / (np.abs(a) + np.abs(f))*100)\n",
    "\n",
    "pred = predictions[0][1]\n",
    "index = list(df.columns)[1:][-100:]\n",
    "gt = df.iloc[0,:].values[-100:]\n",
    "\n",
    "sns.lineplot(x=index, y=gt, label='ground truth')\n",
    "sns.lineplot(x=index, y=pred, label='prediction')\n",
    "\n",
    "print(\"SMAPE: \", smape(gt, pred).round(3))"
   ]
  },
  {
   "cell_type": "markdown",
   "id": "f19541e8",
   "metadata": {},
   "source": [
    "### Export trace for benchmarking "
   ]
  },
  {
   "cell_type": "code",
   "execution_count": 17,
   "id": "3a5ccf0c",
   "metadata": {},
   "outputs": [
    {
     "name": "stderr",
     "output_type": "stream",
     "text": [
      "100%|█████████████████████████████████████████| 145063/145063 [00:12<00:00, 11524.52it/s]\n"
     ]
    }
   ],
   "source": [
    "time_index = index\n",
    "disagg = []\n",
    "\n",
    "for p, (i, g) in tqdm(zip(predictions, df.iterrows()), total = len(df)):\n",
    "    assert(p[0] == g.Page)\n",
    "    disagg.append((g.Page, p[1], g.values[-100:]))"
   ]
  },
  {
   "cell_type": "code",
   "execution_count": 18,
   "id": "193358c8",
   "metadata": {},
   "outputs": [
    {
     "name": "stderr",
     "output_type": "stream",
     "text": [
      "145063it [00:01, 124785.98it/s]\n"
     ]
    }
   ],
   "source": [
    "node_id_mapping = {'node_id': [], 'name': []}\n",
    "\n",
    "pred_tensor = np.zeros((len(disagg), 100))\n",
    "gt_tensor = np.zeros((len(disagg), 100))\n",
    "\n",
    "for i, (name, prediction, gt) in tqdm(enumerate(disagg)):\n",
    "    pred_tensor[i, :] = prediction\n",
    "    gt_tensor[i, :] = gt\n",
    "    node_id_mapping['node_id'].append(i)\n",
    "    node_id_mapping['name'].append(name)"
   ]
  },
  {
   "cell_type": "markdown",
   "id": "36556f6e",
   "metadata": {},
   "source": [
    "### Compiling the hierarchies"
   ]
  },
  {
   "cell_type": "code",
   "execution_count": 19,
   "id": "0c4efb2b",
   "metadata": {},
   "outputs": [],
   "source": [
    "node_id_map_df = pd.DataFrame(node_id_mapping)"
   ]
  },
  {
   "cell_type": "code",
   "execution_count": 20,
   "id": "72185b5f",
   "metadata": {},
   "outputs": [],
   "source": [
    "node_id_map_df['level_4'] = node_id_map_df['name']\n",
    "node_id_map_df['level_3'] = node_id_map_df['name'].apply(lambda x: '_'.join(x.split('_')[:-1]))\n",
    "node_id_map_df['level_2'] = node_id_map_df['name'].apply(lambda x: '_'.join(x.split('_')[:-2]))\n",
    "node_id_map_df['level_1'] = node_id_map_df['name'].apply(lambda x: x.split('_')[-3])"
   ]
  },
  {
   "cell_type": "code",
   "execution_count": 21,
   "id": "b83a631b",
   "metadata": {},
   "outputs": [],
   "source": [
    "parent_node_mapping = {'node_id': [], 'name': []}\n",
    "\n",
    "level3 = list(set(node_id_map_df['level_3'].values))\n",
    "level2 = list(set(node_id_map_df['level_2'].values))\n",
    "level1 = list(set(node_id_map_df['level_1'].values))\n",
    "\n",
    "curr_sum = len(node_id_map_df)\n",
    "\n",
    "for s in [level3, level2, level1]:\n",
    "    for i, v in enumerate(s):\n",
    "        parent_node_mapping['node_id'].append(i + curr_sum)\n",
    "        parent_node_mapping['name'].append(v)\n",
    "    curr_sum += len(s)"
   ]
  },
  {
   "cell_type": "code",
   "execution_count": 22,
   "id": "532149ba",
   "metadata": {},
   "outputs": [],
   "source": [
    "parent_node_mapping_df = pd.DataFrame(parent_node_mapping)"
   ]
  },
  {
   "cell_type": "code",
   "execution_count": 36,
   "id": "3f9e9eb6",
   "metadata": {},
   "outputs": [],
   "source": [
    "node_id_map_df.to_csv(data_dir + 'wikipedia_time_series_prediction_raw/node_id_map.csv', index=False)\n",
    "parent_node_mapping_df.to_csv(data_dir + 'wikipedia_time_series_prediction_raw/parent_node_id_map.csv', index=False)"
   ]
  },
  {
   "cell_type": "code",
   "execution_count": 37,
   "id": "c1e881a4",
   "metadata": {},
   "outputs": [],
   "source": [
    "pickle.dump(time_index, open(data_dir + 'wikipedia_time_series_prediction_raw/time_index.pkl', 'wb'))\n",
    "np.save(open(data_dir + 'wikipedia_time_series_prediction_raw/pred_tensor.npy', 'wb'), pred_tensor)\n",
    "np.save(open(data_dir + 'wikipedia_time_series_prediction_raw/gt_tensor.npy', 'wb'), gt_tensor)"
   ]
  },
  {
   "cell_type": "code",
   "execution_count": 25,
   "id": "a18cbe10",
   "metadata": {},
   "outputs": [
    {
     "data": {
      "text/plain": [
       "Counter({'zh.wikipedia.org': 17229,\n",
       "         'fr.wikipedia.org': 17802,\n",
       "         'en.wikipedia.org': 24108,\n",
       "         'commons.wikimedia.org': 10555,\n",
       "         'ru.wikipedia.org': 15022,\n",
       "         'www.mediawiki.org': 7300,\n",
       "         'de.wikipedia.org': 18547,\n",
       "         'ja.wikipedia.org': 20431,\n",
       "         'es.wikipedia.org': 14069})"
      ]
     },
     "execution_count": 25,
     "metadata": {},
     "output_type": "execute_result"
    }
   ],
   "source": [
    "from collections import Counter\n",
    "Counter(node_id_map_df.level_1.values)"
   ]
  },
  {
   "cell_type": "code",
   "execution_count": 26,
   "id": "2339dc68",
   "metadata": {},
   "outputs": [
    {
     "data": {
      "text/plain": [
       "array(['2NE1_zh.wikipedia.org_all-access_spider',\n",
       "       '2PM_zh.wikipedia.org_all-access_spider',\n",
       "       '3C_zh.wikipedia.org_all-access_spider', ...,\n",
       "       'Enamorándome_de_Ramón_es.wikipedia.org_all-access_spider',\n",
       "       'Hasta_el_último_hombre_es.wikipedia.org_all-access_spider',\n",
       "       'Francisco_el_matemático_(serie_de_televisión_de_2017)_es.wikipedia.org_all-access_spider'],\n",
       "      dtype=object)"
      ]
     },
     "execution_count": 26,
     "metadata": {},
     "output_type": "execute_result"
    }
   ],
   "source": [
    "node_id_map_df.level_4.values"
   ]
  },
  {
   "cell_type": "markdown",
   "id": "fccaf8a7",
   "metadata": {},
   "source": [
    "### Format to Nixtla standard"
   ]
  },
  {
   "cell_type": "code",
   "execution_count": 27,
   "id": "55f0e564",
   "metadata": {},
   "outputs": [],
   "source": [
    "tags = {}\n",
    "tags['level_1'] = node_id_map_df.level_1.unique()\n",
    "tags['level_2'] = node_id_map_df.level_2.unique()\n",
    "tags['level_3'] = node_id_map_df.level_3.unique()\n",
    "tags['level_4'] = node_id_map_df.level_4.unique()"
   ]
  },
  {
   "cell_type": "code",
   "execution_count": 28,
   "id": "c391d931",
   "metadata": {},
   "outputs": [
    {
     "data": {
      "text/plain": [
       "{'level_1': array(['zh.wikipedia.org', 'fr.wikipedia.org', 'en.wikipedia.org',\n",
       "        'commons.wikimedia.org', 'ru.wikipedia.org', 'www.mediawiki.org',\n",
       "        'de.wikipedia.org', 'ja.wikipedia.org', 'es.wikipedia.org'],\n",
       "       dtype=object),\n",
       " 'level_2': array(['2NE1_zh.wikipedia.org', '2PM_zh.wikipedia.org',\n",
       "        '3C_zh.wikipedia.org', ...,\n",
       "        'Eine_Reihe_betrüblicher_Ereignisse_(Fernsehserie)_de.wikipedia.org',\n",
       "        'ジャック・リーチャー_ja.wikipedia.org', 'マイク眞木_ja.wikipedia.org'],\n",
       "       dtype=object),\n",
       " 'level_3': array(['2NE1_zh.wikipedia.org_all-access',\n",
       "        '2PM_zh.wikipedia.org_all-access',\n",
       "        '3C_zh.wikipedia.org_all-access', ...,\n",
       "        '学校法人森友学園_ja.wikipedia.org_all-access',\n",
       "        'Discussion:Scintillation_fr.wikipedia.org_all-access',\n",
       "        'xss_ja.wikipedia.org_all-access'], dtype=object),\n",
       " 'level_4': array(['2NE1_zh.wikipedia.org_all-access_spider',\n",
       "        '2PM_zh.wikipedia.org_all-access_spider',\n",
       "        '3C_zh.wikipedia.org_all-access_spider', ...,\n",
       "        'Enamorándome_de_Ramón_es.wikipedia.org_all-access_spider',\n",
       "        'Hasta_el_último_hombre_es.wikipedia.org_all-access_spider',\n",
       "        'Francisco_el_matemático_(serie_de_televisión_de_2017)_es.wikipedia.org_all-access_spider'],\n",
       "       dtype=object)}"
      ]
     },
     "execution_count": 28,
     "metadata": {},
     "output_type": "execute_result"
    }
   ],
   "source": [
    "tags"
   ]
  },
  {
   "cell_type": "code",
   "execution_count": 29,
   "id": "e3619d40",
   "metadata": {},
   "outputs": [
    {
     "name": "stderr",
     "output_type": "stream",
     "text": [
      "145063it [03:55, 616.15it/s]\n"
     ]
    }
   ],
   "source": [
    "y_gt = {'unique_id': [], 'ds': [], 'y': []}\n",
    "y_hat = {'unique_id': [], 'ds': [], 'y': []}\n",
    "\n",
    "for _, ro in tqdm(node_id_map_df.iterrows()):\n",
    "    for i in range(100):\n",
    "        y_gt['unique_id'].append(ro.name)\n",
    "        y_gt['ds'].append(time_index[i])\n",
    "        y_gt['y'].append(gt_tensor[ro.node_id, i])\n",
    "        \n",
    "        y_hat['unique_id'].append(ro.name)\n",
    "        y_hat['ds'].append(time_index[i])\n",
    "        y_hat['y'].append(pred_tensor[ro.node_id, i])"
   ]
  },
  {
   "cell_type": "code",
   "execution_count": 30,
   "id": "1e3bce2a",
   "metadata": {},
   "outputs": [],
   "source": [
    "Y_gt = pd.DataFrame(y_gt)"
   ]
  },
  {
   "cell_type": "code",
   "execution_count": 31,
   "id": "0748eaa0",
   "metadata": {},
   "outputs": [],
   "source": [
    "Y_hat = pd.DataFrame(y_hat)"
   ]
  },
  {
   "cell_type": "code",
   "execution_count": 32,
   "id": "ccd6a034",
   "metadata": {},
   "outputs": [],
   "source": [
    "Y_hat.rename(columns = {'y': 'prophet'}, inplace=True)"
   ]
  },
  {
   "cell_type": "code",
   "execution_count": 33,
   "id": "268e18d2",
   "metadata": {},
   "outputs": [],
   "source": [
    "Y_gt.to_csv(data_dir + 'wikipedia_time_series_prediction_raw/nixtla_y_gt.csv', index=False)\n",
    "Y_hat.to_csv(data_dir + 'wikipedia_time_series_prediction_raw/nixtla_y_hat.csv', index=False)"
   ]
  },
  {
   "cell_type": "code",
   "execution_count": 34,
   "id": "93f03708",
   "metadata": {},
   "outputs": [],
   "source": [
    "import gc\n",
    "nrow = len(tags['level_1']) + len(tags['level_2']) + len(tags['level_3']) + len(tags['level_4'])\n",
    "ncol = len(tags['level_4'])\n",
    "\n",
    "columns = list(tags['level_4'])\n",
    "rows = list(tags['level_1']) + list(tags['level_2']) + list(tags['level_3']) + list(tags['level_4'])"
   ]
  },
  {
   "cell_type": "markdown",
   "id": "e149d19f",
   "metadata": {},
   "source": [
    "We will see that the naive method will consume too much memory to even store the S matrix.\n",
    "```\n",
    "---------------------------------------------------------------------------\n",
    "MemoryError                               Traceback (most recent call last)\n",
    "/tmp/ipykernel_24000/2646015648.py in <module>\n",
    "----> 1 raw_S = np.zeros((nrow, ncol)).astype(float)\n",
    "\n",
    "MemoryError: Unable to allocate 333. GiB for an array with shape (308004, 145063) and data type float64\n",
    "```"
   ]
  },
  {
   "cell_type": "code",
   "execution_count": 35,
   "id": "913408c3",
   "metadata": {},
   "outputs": [
    {
     "ename": "MemoryError",
     "evalue": "Unable to allocate 333. GiB for an array with shape (308004, 145063) and data type float64",
     "output_type": "error",
     "traceback": [
      "\u001b[0;31m---------------------------------------------------------------------------\u001b[0m",
      "\u001b[0;31mMemoryError\u001b[0m                               Traceback (most recent call last)",
      "\u001b[0;32m/tmp/ipykernel_24000/2646015648.py\u001b[0m in \u001b[0;36m<module>\u001b[0;34m\u001b[0m\n\u001b[0;32m----> 1\u001b[0;31m \u001b[0mraw_S\u001b[0m \u001b[0;34m=\u001b[0m \u001b[0mnp\u001b[0m\u001b[0;34m.\u001b[0m\u001b[0mzeros\u001b[0m\u001b[0;34m(\u001b[0m\u001b[0;34m(\u001b[0m\u001b[0mnrow\u001b[0m\u001b[0;34m,\u001b[0m \u001b[0mncol\u001b[0m\u001b[0;34m)\u001b[0m\u001b[0;34m)\u001b[0m\u001b[0;34m.\u001b[0m\u001b[0mastype\u001b[0m\u001b[0;34m(\u001b[0m\u001b[0mfloat\u001b[0m\u001b[0;34m)\u001b[0m\u001b[0;34m\u001b[0m\u001b[0;34m\u001b[0m\u001b[0m\n\u001b[0m",
      "\u001b[0;31mMemoryError\u001b[0m: Unable to allocate 333. GiB for an array with shape (308004, 145063) and data type float64"
     ]
    }
   ],
   "source": [
    "raw_S = np.zeros((nrow, ncol)).astype(float) # this OOMs"
   ]
  },
  {
   "cell_type": "code",
   "execution_count": null,
   "id": "ef6693e1",
   "metadata": {},
   "outputs": [],
   "source": []
  }
 ],
 "metadata": {
  "kernelspec": {
   "display_name": "Python 3 (ipykernel)",
   "language": "python",
   "name": "python3"
  },
  "language_info": {
   "codemirror_mode": {
    "name": "ipython",
    "version": 3
   },
   "file_extension": ".py",
   "mimetype": "text/x-python",
   "name": "python",
   "nbconvert_exporter": "python",
   "pygments_lexer": "ipython3",
   "version": "3.9.13"
  }
 },
 "nbformat": 4,
 "nbformat_minor": 5
}
