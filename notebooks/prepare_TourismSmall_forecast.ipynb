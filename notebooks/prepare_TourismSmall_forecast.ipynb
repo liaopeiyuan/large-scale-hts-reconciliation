{
 "cells": [
  {
   "cell_type": "markdown",
   "id": "843cf8de-d678-4243-a8af-d78439058e6a",
   "metadata": {
    "id": "843cf8de-d678-4243-a8af-d78439058e6a"
   },
   "source": [
    "# • Reconciliation Quick Start"
   ]
  },
  {
   "cell_type": "markdown",
   "id": "e9e5cafc-68db-4752-bfe0-b360cd8d9e1f",
   "metadata": {
    "id": "e9e5cafc-68db-4752-bfe0-b360cd8d9e1f"
   },
   "source": [
    "<a href=\"https://colab.research.google.com/github/Nixtla/hierarchicalforecast/blob/main/nbs/examples/TourismSmall.ipynb\" target=\"_parent\"><img src=\"https://colab.research.google.com/assets/colab-badge.svg\" alt=\"Open In Colab\"/></a>"
   ]
  },
  {
   "cell_type": "markdown",
   "id": "0a836410-7063-4766-b03c-7d22b6abe457",
   "metadata": {
    "id": "0a836410-7063-4766-b03c-7d22b6abe457"
   },
   "source": [
    "Large collections of time series organized into structures at different aggregation levels often require their forecasts to follow their aggregation constraints, which poses the challenge of creating novel algorithms capable of coherent forecasts.\n",
    "\n",
    "The `HierarchicalForecast` package provides a wide collection of Python implementations of hierarchical forecasting algorithms that follow classic hierarchical reconciliation."
   ]
  },
  {
   "cell_type": "code",
   "execution_count": null,
   "id": "7f777bdd-dff4-4bc0-8529-b492874de6f0",
   "metadata": {
    "id": "7f777bdd-dff4-4bc0-8529-b492874de6f0"
   },
   "outputs": [],
   "source": [
    "%%capture\n",
    "!pip install hierarchicalforecast\n",
    "!pip install -U numba statsforecast datasetsforecast"
   ]
  },
  {
   "cell_type": "code",
   "execution_count": null,
   "id": "f7a5828a-2fb4-4811-9e07-0ee291331978",
   "metadata": {
    "colab": {
     "base_uri": "https://localhost:8080/"
    },
    "id": "f7a5828a-2fb4-4811-9e07-0ee291331978",
    "outputId": "89c013cb-f35f-4678-9904-6c7a330f0a3b"
   },
   "outputs": [
    {
     "name": "stderr",
     "output_type": "stream",
     "text": [
      "/usr/local/lib/python3.8/dist-packages/statsforecast/core.py:21: TqdmExperimentalWarning: Using `tqdm.autonotebook.tqdm` in notebook mode. Use `tqdm.tqdm` instead to force console mode (e.g. in jupyter console)\n",
      "  from tqdm.autonotebook import tqdm\n"
     ]
    }
   ],
   "source": [
    "import numpy as np\n",
    "import pandas as pd\n",
    "\n",
    "#obtain hierarchical data\n",
    "from datasetsforecast.hierarchical import HierarchicalData\n",
    "\n",
    "# compute base forecast no coherent\n",
    "from statsforecast.core import StatsForecast\n",
    "from statsforecast.models import AutoARIMA, Naive\n",
    "\n",
    "#obtain hierarchical reconciliation methods and evaluation\n",
    "from hierarchicalforecast.core import HierarchicalReconciliation\n",
    "from hierarchicalforecast.evaluation import HierarchicalEvaluation\n",
    "from hierarchicalforecast.methods import BottomUp, TopDown, MiddleOut"
   ]
  },
  {
   "cell_type": "markdown",
   "id": "3e921d0e-ac88-440a-a961-02ef9844b403",
   "metadata": {
    "id": "3e921d0e-ac88-440a-a961-02ef9844b403"
   },
   "source": [
    "In this example we will use the `TourismSmall` dataset. The following cell gets the time series for the different levels in the hierarchy, the summing matrix `S` which recovers the full dataset from the bottom level hierarchy and the indices of each hierarchy denoted by `tags`."
   ]
  },
  {
   "cell_type": "code",
   "execution_count": null,
   "id": "c18a4300-5b8f-45b5-92ce-e52f8c4dab20",
   "metadata": {
    "colab": {
     "base_uri": "https://localhost:8080/"
    },
    "id": "c18a4300-5b8f-45b5-92ce-e52f8c4dab20",
    "outputId": "c9224420-4924-44f9-d1a6-b837b5faf562"
   },
   "outputs": [
    {
     "name": "stderr",
     "output_type": "stream",
     "text": [
      "100%|██████████| 1.30M/1.30M [00:00<00:00, 3.45MiB/s]\n"
     ]
    }
   ],
   "source": [
    "Y_df, S_df, tags = HierarchicalData.load('./data', 'TourismSmall')\n",
    "Y_df['ds'] = pd.to_datetime(Y_df['ds'])"
   ]
  },
  {
   "cell_type": "code",
   "execution_count": null,
   "id": "5c6d7ad8-c219-4c95-9736-700e372ddb32",
   "metadata": {
    "colab": {
     "base_uri": "https://localhost:8080/",
     "height": 206
    },
    "id": "5c6d7ad8-c219-4c95-9736-700e372ddb32",
    "outputId": "8e6c0198-4456-4e1b-80c5-fd0c9103ccdf"
   },
   "outputs": [
    {
     "data": {
      "text/html": [
       "\n",
       "  <div id=\"df-91e878a0-20e2-45b6-a0a0-ecd59384b1d6\">\n",
       "    <div class=\"colab-df-container\">\n",
       "      <div>\n",
       "<style scoped>\n",
       "    .dataframe tbody tr th:only-of-type {\n",
       "        vertical-align: middle;\n",
       "    }\n",
       "\n",
       "    .dataframe tbody tr th {\n",
       "        vertical-align: top;\n",
       "    }\n",
       "\n",
       "    .dataframe thead th {\n",
       "        text-align: right;\n",
       "    }\n",
       "</style>\n",
       "<table border=\"1\" class=\"dataframe\">\n",
       "  <thead>\n",
       "    <tr style=\"text-align: right;\">\n",
       "      <th></th>\n",
       "      <th>unique_id</th>\n",
       "      <th>ds</th>\n",
       "      <th>y</th>\n",
       "    </tr>\n",
       "  </thead>\n",
       "  <tbody>\n",
       "    <tr>\n",
       "      <th>0</th>\n",
       "      <td>total</td>\n",
       "      <td>1998-03-31</td>\n",
       "      <td>84503</td>\n",
       "    </tr>\n",
       "    <tr>\n",
       "      <th>1</th>\n",
       "      <td>total</td>\n",
       "      <td>1998-06-30</td>\n",
       "      <td>65312</td>\n",
       "    </tr>\n",
       "    <tr>\n",
       "      <th>2</th>\n",
       "      <td>total</td>\n",
       "      <td>1998-09-30</td>\n",
       "      <td>72753</td>\n",
       "    </tr>\n",
       "    <tr>\n",
       "      <th>3</th>\n",
       "      <td>total</td>\n",
       "      <td>1998-12-31</td>\n",
       "      <td>70880</td>\n",
       "    </tr>\n",
       "    <tr>\n",
       "      <th>4</th>\n",
       "      <td>total</td>\n",
       "      <td>1999-03-31</td>\n",
       "      <td>86893</td>\n",
       "    </tr>\n",
       "  </tbody>\n",
       "</table>\n",
       "</div>\n",
       "      <button class=\"colab-df-convert\" onclick=\"convertToInteractive('df-91e878a0-20e2-45b6-a0a0-ecd59384b1d6')\"\n",
       "              title=\"Convert this dataframe to an interactive table.\"\n",
       "              style=\"display:none;\">\n",
       "        \n",
       "  <svg xmlns=\"http://www.w3.org/2000/svg\" height=\"24px\"viewBox=\"0 0 24 24\"\n",
       "       width=\"24px\">\n",
       "    <path d=\"M0 0h24v24H0V0z\" fill=\"none\"/>\n",
       "    <path d=\"M18.56 5.44l.94 2.06.94-2.06 2.06-.94-2.06-.94-.94-2.06-.94 2.06-2.06.94zm-11 1L8.5 8.5l.94-2.06 2.06-.94-2.06-.94L8.5 2.5l-.94 2.06-2.06.94zm10 10l.94 2.06.94-2.06 2.06-.94-2.06-.94-.94-2.06-.94 2.06-2.06.94z\"/><path d=\"M17.41 7.96l-1.37-1.37c-.4-.4-.92-.59-1.43-.59-.52 0-1.04.2-1.43.59L10.3 9.45l-7.72 7.72c-.78.78-.78 2.05 0 2.83L4 21.41c.39.39.9.59 1.41.59.51 0 1.02-.2 1.41-.59l7.78-7.78 2.81-2.81c.8-.78.8-2.07 0-2.86zM5.41 20L4 18.59l7.72-7.72 1.47 1.35L5.41 20z\"/>\n",
       "  </svg>\n",
       "      </button>\n",
       "      \n",
       "  <style>\n",
       "    .colab-df-container {\n",
       "      display:flex;\n",
       "      flex-wrap:wrap;\n",
       "      gap: 12px;\n",
       "    }\n",
       "\n",
       "    .colab-df-convert {\n",
       "      background-color: #E8F0FE;\n",
       "      border: none;\n",
       "      border-radius: 50%;\n",
       "      cursor: pointer;\n",
       "      display: none;\n",
       "      fill: #1967D2;\n",
       "      height: 32px;\n",
       "      padding: 0 0 0 0;\n",
       "      width: 32px;\n",
       "    }\n",
       "\n",
       "    .colab-df-convert:hover {\n",
       "      background-color: #E2EBFA;\n",
       "      box-shadow: 0px 1px 2px rgba(60, 64, 67, 0.3), 0px 1px 3px 1px rgba(60, 64, 67, 0.15);\n",
       "      fill: #174EA6;\n",
       "    }\n",
       "\n",
       "    [theme=dark] .colab-df-convert {\n",
       "      background-color: #3B4455;\n",
       "      fill: #D2E3FC;\n",
       "    }\n",
       "\n",
       "    [theme=dark] .colab-df-convert:hover {\n",
       "      background-color: #434B5C;\n",
       "      box-shadow: 0px 1px 3px 1px rgba(0, 0, 0, 0.15);\n",
       "      filter: drop-shadow(0px 1px 2px rgba(0, 0, 0, 0.3));\n",
       "      fill: #FFFFFF;\n",
       "    }\n",
       "  </style>\n",
       "\n",
       "      <script>\n",
       "        const buttonEl =\n",
       "          document.querySelector('#df-91e878a0-20e2-45b6-a0a0-ecd59384b1d6 button.colab-df-convert');\n",
       "        buttonEl.style.display =\n",
       "          google.colab.kernel.accessAllowed ? 'block' : 'none';\n",
       "\n",
       "        async function convertToInteractive(key) {\n",
       "          const element = document.querySelector('#df-91e878a0-20e2-45b6-a0a0-ecd59384b1d6');\n",
       "          const dataTable =\n",
       "            await google.colab.kernel.invokeFunction('convertToInteractive',\n",
       "                                                     [key], {});\n",
       "          if (!dataTable) return;\n",
       "\n",
       "          const docLinkHtml = 'Like what you see? Visit the ' +\n",
       "            '<a target=\"_blank\" href=https://colab.research.google.com/notebooks/data_table.ipynb>data table notebook</a>'\n",
       "            + ' to learn more about interactive tables.';\n",
       "          element.innerHTML = '';\n",
       "          dataTable['output_type'] = 'display_data';\n",
       "          await google.colab.output.renderOutput(dataTable, element);\n",
       "          const docLink = document.createElement('div');\n",
       "          docLink.innerHTML = docLinkHtml;\n",
       "          element.appendChild(docLink);\n",
       "        }\n",
       "      </script>\n",
       "    </div>\n",
       "  </div>\n",
       "  "
      ],
      "text/plain": [
       "  unique_id         ds      y\n",
       "0     total 1998-03-31  84503\n",
       "1     total 1998-06-30  65312\n",
       "2     total 1998-09-30  72753\n",
       "3     total 1998-12-31  70880\n",
       "4     total 1999-03-31  86893"
      ]
     },
     "execution_count": 4,
     "metadata": {},
     "output_type": "execute_result"
    }
   ],
   "source": [
    "Y_df.head()"
   ]
  },
  {
   "cell_type": "code",
   "execution_count": null,
   "id": "b964394e-6a79-4c75-be74-3c3994e1bf58",
   "metadata": {
    "colab": {
     "base_uri": "https://localhost:8080/",
     "height": 206
    },
    "id": "b964394e-6a79-4c75-be74-3c3994e1bf58",
    "outputId": "57a843f9-4a74-461e-bbdd-7fa46da1d002"
   },
   "outputs": [
    {
     "data": {
      "text/html": [
       "\n",
       "  <div id=\"df-cba62a2c-9fac-4d48-84cc-5be50af0b16a\">\n",
       "    <div class=\"colab-df-container\">\n",
       "      <div>\n",
       "<style scoped>\n",
       "    .dataframe tbody tr th:only-of-type {\n",
       "        vertical-align: middle;\n",
       "    }\n",
       "\n",
       "    .dataframe tbody tr th {\n",
       "        vertical-align: top;\n",
       "    }\n",
       "\n",
       "    .dataframe thead th {\n",
       "        text-align: right;\n",
       "    }\n",
       "</style>\n",
       "<table border=\"1\" class=\"dataframe\">\n",
       "  <thead>\n",
       "    <tr style=\"text-align: right;\">\n",
       "      <th></th>\n",
       "      <th>nsw-hol-city</th>\n",
       "      <th>nsw-hol-noncity</th>\n",
       "      <th>vic-hol-city</th>\n",
       "      <th>vic-hol-noncity</th>\n",
       "      <th>qld-hol-city</th>\n",
       "    </tr>\n",
       "  </thead>\n",
       "  <tbody>\n",
       "    <tr>\n",
       "      <th>total</th>\n",
       "      <td>1.0</td>\n",
       "      <td>1.0</td>\n",
       "      <td>1.0</td>\n",
       "      <td>1.0</td>\n",
       "      <td>1.0</td>\n",
       "    </tr>\n",
       "    <tr>\n",
       "      <th>hol</th>\n",
       "      <td>1.0</td>\n",
       "      <td>1.0</td>\n",
       "      <td>1.0</td>\n",
       "      <td>1.0</td>\n",
       "      <td>1.0</td>\n",
       "    </tr>\n",
       "    <tr>\n",
       "      <th>vfr</th>\n",
       "      <td>0.0</td>\n",
       "      <td>0.0</td>\n",
       "      <td>0.0</td>\n",
       "      <td>0.0</td>\n",
       "      <td>0.0</td>\n",
       "    </tr>\n",
       "    <tr>\n",
       "      <th>bus</th>\n",
       "      <td>0.0</td>\n",
       "      <td>0.0</td>\n",
       "      <td>0.0</td>\n",
       "      <td>0.0</td>\n",
       "      <td>0.0</td>\n",
       "    </tr>\n",
       "    <tr>\n",
       "      <th>oth</th>\n",
       "      <td>0.0</td>\n",
       "      <td>0.0</td>\n",
       "      <td>0.0</td>\n",
       "      <td>0.0</td>\n",
       "      <td>0.0</td>\n",
       "    </tr>\n",
       "  </tbody>\n",
       "</table>\n",
       "</div>\n",
       "      <button class=\"colab-df-convert\" onclick=\"convertToInteractive('df-cba62a2c-9fac-4d48-84cc-5be50af0b16a')\"\n",
       "              title=\"Convert this dataframe to an interactive table.\"\n",
       "              style=\"display:none;\">\n",
       "        \n",
       "  <svg xmlns=\"http://www.w3.org/2000/svg\" height=\"24px\"viewBox=\"0 0 24 24\"\n",
       "       width=\"24px\">\n",
       "    <path d=\"M0 0h24v24H0V0z\" fill=\"none\"/>\n",
       "    <path d=\"M18.56 5.44l.94 2.06.94-2.06 2.06-.94-2.06-.94-.94-2.06-.94 2.06-2.06.94zm-11 1L8.5 8.5l.94-2.06 2.06-.94-2.06-.94L8.5 2.5l-.94 2.06-2.06.94zm10 10l.94 2.06.94-2.06 2.06-.94-2.06-.94-.94-2.06-.94 2.06-2.06.94z\"/><path d=\"M17.41 7.96l-1.37-1.37c-.4-.4-.92-.59-1.43-.59-.52 0-1.04.2-1.43.59L10.3 9.45l-7.72 7.72c-.78.78-.78 2.05 0 2.83L4 21.41c.39.39.9.59 1.41.59.51 0 1.02-.2 1.41-.59l7.78-7.78 2.81-2.81c.8-.78.8-2.07 0-2.86zM5.41 20L4 18.59l7.72-7.72 1.47 1.35L5.41 20z\"/>\n",
       "  </svg>\n",
       "      </button>\n",
       "      \n",
       "  <style>\n",
       "    .colab-df-container {\n",
       "      display:flex;\n",
       "      flex-wrap:wrap;\n",
       "      gap: 12px;\n",
       "    }\n",
       "\n",
       "    .colab-df-convert {\n",
       "      background-color: #E8F0FE;\n",
       "      border: none;\n",
       "      border-radius: 50%;\n",
       "      cursor: pointer;\n",
       "      display: none;\n",
       "      fill: #1967D2;\n",
       "      height: 32px;\n",
       "      padding: 0 0 0 0;\n",
       "      width: 32px;\n",
       "    }\n",
       "\n",
       "    .colab-df-convert:hover {\n",
       "      background-color: #E2EBFA;\n",
       "      box-shadow: 0px 1px 2px rgba(60, 64, 67, 0.3), 0px 1px 3px 1px rgba(60, 64, 67, 0.15);\n",
       "      fill: #174EA6;\n",
       "    }\n",
       "\n",
       "    [theme=dark] .colab-df-convert {\n",
       "      background-color: #3B4455;\n",
       "      fill: #D2E3FC;\n",
       "    }\n",
       "\n",
       "    [theme=dark] .colab-df-convert:hover {\n",
       "      background-color: #434B5C;\n",
       "      box-shadow: 0px 1px 3px 1px rgba(0, 0, 0, 0.15);\n",
       "      filter: drop-shadow(0px 1px 2px rgba(0, 0, 0, 0.3));\n",
       "      fill: #FFFFFF;\n",
       "    }\n",
       "  </style>\n",
       "\n",
       "      <script>\n",
       "        const buttonEl =\n",
       "          document.querySelector('#df-cba62a2c-9fac-4d48-84cc-5be50af0b16a button.colab-df-convert');\n",
       "        buttonEl.style.display =\n",
       "          google.colab.kernel.accessAllowed ? 'block' : 'none';\n",
       "\n",
       "        async function convertToInteractive(key) {\n",
       "          const element = document.querySelector('#df-cba62a2c-9fac-4d48-84cc-5be50af0b16a');\n",
       "          const dataTable =\n",
       "            await google.colab.kernel.invokeFunction('convertToInteractive',\n",
       "                                                     [key], {});\n",
       "          if (!dataTable) return;\n",
       "\n",
       "          const docLinkHtml = 'Like what you see? Visit the ' +\n",
       "            '<a target=\"_blank\" href=https://colab.research.google.com/notebooks/data_table.ipynb>data table notebook</a>'\n",
       "            + ' to learn more about interactive tables.';\n",
       "          element.innerHTML = '';\n",
       "          dataTable['output_type'] = 'display_data';\n",
       "          await google.colab.output.renderOutput(dataTable, element);\n",
       "          const docLink = document.createElement('div');\n",
       "          docLink.innerHTML = docLinkHtml;\n",
       "          element.appendChild(docLink);\n",
       "        }\n",
       "      </script>\n",
       "    </div>\n",
       "  </div>\n",
       "  "
      ],
      "text/plain": [
       "       nsw-hol-city  nsw-hol-noncity  vic-hol-city  vic-hol-noncity  \\\n",
       "total           1.0              1.0           1.0              1.0   \n",
       "hol             1.0              1.0           1.0              1.0   \n",
       "vfr             0.0              0.0           0.0              0.0   \n",
       "bus             0.0              0.0           0.0              0.0   \n",
       "oth             0.0              0.0           0.0              0.0   \n",
       "\n",
       "       qld-hol-city  \n",
       "total           1.0  \n",
       "hol             1.0  \n",
       "vfr             0.0  \n",
       "bus             0.0  \n",
       "oth             0.0  "
      ]
     },
     "execution_count": 5,
     "metadata": {},
     "output_type": "execute_result"
    }
   ],
   "source": [
    "S_df.iloc[:5, :5]"
   ]
  },
  {
   "cell_type": "code",
   "execution_count": null,
   "id": "fd32f1a5-2b60-454e-afc9-6911f84f6698",
   "metadata": {
    "colab": {
     "base_uri": "https://localhost:8080/"
    },
    "id": "fd32f1a5-2b60-454e-afc9-6911f84f6698",
    "outputId": "1d5aaeb1-65b4-4e35-b561-1d1bedea8ce0"
   },
   "outputs": [
    {
     "data": {
      "text/plain": [
       "{'Country': array(['total'], dtype=object),\n",
       " 'Country/Purpose': array(['hol', 'vfr', 'bus', 'oth'], dtype=object),\n",
       " 'Country/Purpose/State': array(['nsw-hol', 'vic-hol', 'qld-hol', 'sa-hol', 'wa-hol', 'tas-hol',\n",
       "        'nt-hol', 'nsw-vfr', 'vic-vfr', 'qld-vfr', 'sa-vfr', 'wa-vfr',\n",
       "        'tas-vfr', 'nt-vfr', 'nsw-bus', 'vic-bus', 'qld-bus', 'sa-bus',\n",
       "        'wa-bus', 'tas-bus', 'nt-bus', 'nsw-oth', 'vic-oth', 'qld-oth',\n",
       "        'sa-oth', 'wa-oth', 'tas-oth', 'nt-oth'], dtype=object),\n",
       " 'Country/Purpose/State/CityNonCity': array(['nsw-hol-city', 'nsw-hol-noncity', 'vic-hol-city',\n",
       "        'vic-hol-noncity', 'qld-hol-city', 'qld-hol-noncity',\n",
       "        'sa-hol-city', 'sa-hol-noncity', 'wa-hol-city', 'wa-hol-noncity',\n",
       "        'tas-hol-city', 'tas-hol-noncity', 'nt-hol-city', 'nt-hol-noncity',\n",
       "        'nsw-vfr-city', 'nsw-vfr-noncity', 'vic-vfr-city',\n",
       "        'vic-vfr-noncity', 'qld-vfr-city', 'qld-vfr-noncity',\n",
       "        'sa-vfr-city', 'sa-vfr-noncity', 'wa-vfr-city', 'wa-vfr-noncity',\n",
       "        'tas-vfr-city', 'tas-vfr-noncity', 'nt-vfr-city', 'nt-vfr-noncity',\n",
       "        'nsw-bus-city', 'nsw-bus-noncity', 'vic-bus-city',\n",
       "        'vic-bus-noncity', 'qld-bus-city', 'qld-bus-noncity',\n",
       "        'sa-bus-city', 'sa-bus-noncity', 'wa-bus-city', 'wa-bus-noncity',\n",
       "        'tas-bus-city', 'tas-bus-noncity', 'nt-bus-city', 'nt-bus-noncity',\n",
       "        'nsw-oth-city', 'nsw-oth-noncity', 'vic-oth-city',\n",
       "        'vic-oth-noncity', 'qld-oth-city', 'qld-oth-noncity',\n",
       "        'sa-oth-city', 'sa-oth-noncity', 'wa-oth-city', 'wa-oth-noncity',\n",
       "        'tas-oth-city', 'tas-oth-noncity', 'nt-oth-city', 'nt-oth-noncity'],\n",
       "       dtype=object)}"
      ]
     },
     "execution_count": 6,
     "metadata": {},
     "output_type": "execute_result"
    }
   ],
   "source": [
    "tags"
   ]
  },
  {
   "cell_type": "markdown",
   "id": "56a7aadb-6e2c-456a-a0b5-b29b30deadb5",
   "metadata": {
    "id": "56a7aadb-6e2c-456a-a0b5-b29b30deadb5"
   },
   "source": [
    "We split the dataframe in train/test splits."
   ]
  },
  {
   "cell_type": "code",
   "execution_count": null,
   "id": "462451d8-2fc0-445e-9458-908811011dd9",
   "metadata": {
    "id": "462451d8-2fc0-445e-9458-908811011dd9"
   },
   "outputs": [],
   "source": [
    "Y_test_df = Y_df.groupby('unique_id').tail(12)\n",
    "Y_train_df = Y_df.drop(Y_test_df.index)"
   ]
  },
  {
   "cell_type": "code",
   "execution_count": null,
   "id": "ab321103-cca1-4931-8f5d-cd8026ab63fe",
   "metadata": {
    "id": "ab321103-cca1-4931-8f5d-cd8026ab63fe"
   },
   "outputs": [],
   "source": [
    "Y_test_df = Y_test_df.set_index('unique_id')\n",
    "Y_train_df = Y_train_df.set_index('unique_id')"
   ]
  },
  {
   "cell_type": "markdown",
   "id": "b7cfb43a-cd16-418c-a04b-e075c176cc9e",
   "metadata": {
    "id": "b7cfb43a-cd16-418c-a04b-e075c176cc9e"
   },
   "source": [
    "The following cell computes the *base forecast* for each time series using the `auto_arima` and `naive` models. Observe that `Y_hat_df` contains the forecasts but they are not coherent."
   ]
  },
  {
   "cell_type": "code",
   "execution_count": null,
   "id": "f99e7b7b-f4b8-4f2f-a1a7-c8be98a1e280",
   "metadata": {
    "id": "f99e7b7b-f4b8-4f2f-a1a7-c8be98a1e280"
   },
   "outputs": [],
   "source": [
    "%%capture\n",
    "fcst = StatsForecast(\n",
    "    df=Y_train_df, \n",
    "    models=[AutoARIMA(season_length=12), Naive()], \n",
    "    freq='M', \n",
    "    n_jobs=-1\n",
    ")\n",
    "Y_hat_df = fcst.forecast(h=12)"
   ]
  },
  {
   "cell_type": "code",
   "execution_count": null,
   "id": "eEeKeDyenrTT",
   "metadata": {
    "colab": {
     "base_uri": "https://localhost:8080/",
     "height": 661
    },
    "id": "eEeKeDyenrTT",
    "outputId": "03690624-0475-4359-9619-97049452a176"
   },
   "outputs": [
    {
     "data": {
      "text/html": [
       "\n",
       "  <div id=\"df-ae053725-3b74-423e-b72e-e506d66d3ffa\">\n",
       "    <div class=\"colab-df-container\">\n",
       "      <div>\n",
       "<style scoped>\n",
       "    .dataframe tbody tr th:only-of-type {\n",
       "        vertical-align: middle;\n",
       "    }\n",
       "\n",
       "    .dataframe tbody tr th {\n",
       "        vertical-align: top;\n",
       "    }\n",
       "\n",
       "    .dataframe thead th {\n",
       "        text-align: right;\n",
       "    }\n",
       "</style>\n",
       "<table border=\"1\" class=\"dataframe\">\n",
       "  <thead>\n",
       "    <tr style=\"text-align: right;\">\n",
       "      <th></th>\n",
       "      <th>nsw-hol-city</th>\n",
       "      <th>nsw-hol-noncity</th>\n",
       "      <th>vic-hol-city</th>\n",
       "      <th>vic-hol-noncity</th>\n",
       "      <th>qld-hol-city</th>\n",
       "      <th>qld-hol-noncity</th>\n",
       "      <th>sa-hol-city</th>\n",
       "      <th>sa-hol-noncity</th>\n",
       "      <th>wa-hol-city</th>\n",
       "      <th>wa-hol-noncity</th>\n",
       "      <th>...</th>\n",
       "      <th>qld-oth-city</th>\n",
       "      <th>qld-oth-noncity</th>\n",
       "      <th>sa-oth-city</th>\n",
       "      <th>sa-oth-noncity</th>\n",
       "      <th>wa-oth-city</th>\n",
       "      <th>wa-oth-noncity</th>\n",
       "      <th>tas-oth-city</th>\n",
       "      <th>tas-oth-noncity</th>\n",
       "      <th>nt-oth-city</th>\n",
       "      <th>nt-oth-noncity</th>\n",
       "    </tr>\n",
       "  </thead>\n",
       "  <tbody>\n",
       "    <tr>\n",
       "      <th>total</th>\n",
       "      <td>1.0</td>\n",
       "      <td>1.0</td>\n",
       "      <td>1.0</td>\n",
       "      <td>1.0</td>\n",
       "      <td>1.0</td>\n",
       "      <td>1.0</td>\n",
       "      <td>1.0</td>\n",
       "      <td>1.0</td>\n",
       "      <td>1.0</td>\n",
       "      <td>1.0</td>\n",
       "      <td>...</td>\n",
       "      <td>1.0</td>\n",
       "      <td>1.0</td>\n",
       "      <td>1.0</td>\n",
       "      <td>1.0</td>\n",
       "      <td>1.0</td>\n",
       "      <td>1.0</td>\n",
       "      <td>1.0</td>\n",
       "      <td>1.0</td>\n",
       "      <td>1.0</td>\n",
       "      <td>1.0</td>\n",
       "    </tr>\n",
       "    <tr>\n",
       "      <th>hol</th>\n",
       "      <td>1.0</td>\n",
       "      <td>1.0</td>\n",
       "      <td>1.0</td>\n",
       "      <td>1.0</td>\n",
       "      <td>1.0</td>\n",
       "      <td>1.0</td>\n",
       "      <td>1.0</td>\n",
       "      <td>1.0</td>\n",
       "      <td>1.0</td>\n",
       "      <td>1.0</td>\n",
       "      <td>...</td>\n",
       "      <td>0.0</td>\n",
       "      <td>0.0</td>\n",
       "      <td>0.0</td>\n",
       "      <td>0.0</td>\n",
       "      <td>0.0</td>\n",
       "      <td>0.0</td>\n",
       "      <td>0.0</td>\n",
       "      <td>0.0</td>\n",
       "      <td>0.0</td>\n",
       "      <td>0.0</td>\n",
       "    </tr>\n",
       "    <tr>\n",
       "      <th>vfr</th>\n",
       "      <td>0.0</td>\n",
       "      <td>0.0</td>\n",
       "      <td>0.0</td>\n",
       "      <td>0.0</td>\n",
       "      <td>0.0</td>\n",
       "      <td>0.0</td>\n",
       "      <td>0.0</td>\n",
       "      <td>0.0</td>\n",
       "      <td>0.0</td>\n",
       "      <td>0.0</td>\n",
       "      <td>...</td>\n",
       "      <td>0.0</td>\n",
       "      <td>0.0</td>\n",
       "      <td>0.0</td>\n",
       "      <td>0.0</td>\n",
       "      <td>0.0</td>\n",
       "      <td>0.0</td>\n",
       "      <td>0.0</td>\n",
       "      <td>0.0</td>\n",
       "      <td>0.0</td>\n",
       "      <td>0.0</td>\n",
       "    </tr>\n",
       "    <tr>\n",
       "      <th>bus</th>\n",
       "      <td>0.0</td>\n",
       "      <td>0.0</td>\n",
       "      <td>0.0</td>\n",
       "      <td>0.0</td>\n",
       "      <td>0.0</td>\n",
       "      <td>0.0</td>\n",
       "      <td>0.0</td>\n",
       "      <td>0.0</td>\n",
       "      <td>0.0</td>\n",
       "      <td>0.0</td>\n",
       "      <td>...</td>\n",
       "      <td>0.0</td>\n",
       "      <td>0.0</td>\n",
       "      <td>0.0</td>\n",
       "      <td>0.0</td>\n",
       "      <td>0.0</td>\n",
       "      <td>0.0</td>\n",
       "      <td>0.0</td>\n",
       "      <td>0.0</td>\n",
       "      <td>0.0</td>\n",
       "      <td>0.0</td>\n",
       "    </tr>\n",
       "    <tr>\n",
       "      <th>oth</th>\n",
       "      <td>0.0</td>\n",
       "      <td>0.0</td>\n",
       "      <td>0.0</td>\n",
       "      <td>0.0</td>\n",
       "      <td>0.0</td>\n",
       "      <td>0.0</td>\n",
       "      <td>0.0</td>\n",
       "      <td>0.0</td>\n",
       "      <td>0.0</td>\n",
       "      <td>0.0</td>\n",
       "      <td>...</td>\n",
       "      <td>1.0</td>\n",
       "      <td>1.0</td>\n",
       "      <td>1.0</td>\n",
       "      <td>1.0</td>\n",
       "      <td>1.0</td>\n",
       "      <td>1.0</td>\n",
       "      <td>1.0</td>\n",
       "      <td>1.0</td>\n",
       "      <td>1.0</td>\n",
       "      <td>1.0</td>\n",
       "    </tr>\n",
       "    <tr>\n",
       "      <th>...</th>\n",
       "      <td>...</td>\n",
       "      <td>...</td>\n",
       "      <td>...</td>\n",
       "      <td>...</td>\n",
       "      <td>...</td>\n",
       "      <td>...</td>\n",
       "      <td>...</td>\n",
       "      <td>...</td>\n",
       "      <td>...</td>\n",
       "      <td>...</td>\n",
       "      <td>...</td>\n",
       "      <td>...</td>\n",
       "      <td>...</td>\n",
       "      <td>...</td>\n",
       "      <td>...</td>\n",
       "      <td>...</td>\n",
       "      <td>...</td>\n",
       "      <td>...</td>\n",
       "      <td>...</td>\n",
       "      <td>...</td>\n",
       "      <td>...</td>\n",
       "    </tr>\n",
       "    <tr>\n",
       "      <th>wa-oth-noncity</th>\n",
       "      <td>0.0</td>\n",
       "      <td>0.0</td>\n",
       "      <td>0.0</td>\n",
       "      <td>0.0</td>\n",
       "      <td>0.0</td>\n",
       "      <td>0.0</td>\n",
       "      <td>0.0</td>\n",
       "      <td>0.0</td>\n",
       "      <td>0.0</td>\n",
       "      <td>0.0</td>\n",
       "      <td>...</td>\n",
       "      <td>0.0</td>\n",
       "      <td>0.0</td>\n",
       "      <td>0.0</td>\n",
       "      <td>0.0</td>\n",
       "      <td>0.0</td>\n",
       "      <td>1.0</td>\n",
       "      <td>0.0</td>\n",
       "      <td>0.0</td>\n",
       "      <td>0.0</td>\n",
       "      <td>0.0</td>\n",
       "    </tr>\n",
       "    <tr>\n",
       "      <th>tas-oth-city</th>\n",
       "      <td>0.0</td>\n",
       "      <td>0.0</td>\n",
       "      <td>0.0</td>\n",
       "      <td>0.0</td>\n",
       "      <td>0.0</td>\n",
       "      <td>0.0</td>\n",
       "      <td>0.0</td>\n",
       "      <td>0.0</td>\n",
       "      <td>0.0</td>\n",
       "      <td>0.0</td>\n",
       "      <td>...</td>\n",
       "      <td>0.0</td>\n",
       "      <td>0.0</td>\n",
       "      <td>0.0</td>\n",
       "      <td>0.0</td>\n",
       "      <td>0.0</td>\n",
       "      <td>0.0</td>\n",
       "      <td>1.0</td>\n",
       "      <td>0.0</td>\n",
       "      <td>0.0</td>\n",
       "      <td>0.0</td>\n",
       "    </tr>\n",
       "    <tr>\n",
       "      <th>tas-oth-noncity</th>\n",
       "      <td>0.0</td>\n",
       "      <td>0.0</td>\n",
       "      <td>0.0</td>\n",
       "      <td>0.0</td>\n",
       "      <td>0.0</td>\n",
       "      <td>0.0</td>\n",
       "      <td>0.0</td>\n",
       "      <td>0.0</td>\n",
       "      <td>0.0</td>\n",
       "      <td>0.0</td>\n",
       "      <td>...</td>\n",
       "      <td>0.0</td>\n",
       "      <td>0.0</td>\n",
       "      <td>0.0</td>\n",
       "      <td>0.0</td>\n",
       "      <td>0.0</td>\n",
       "      <td>0.0</td>\n",
       "      <td>0.0</td>\n",
       "      <td>1.0</td>\n",
       "      <td>0.0</td>\n",
       "      <td>0.0</td>\n",
       "    </tr>\n",
       "    <tr>\n",
       "      <th>nt-oth-city</th>\n",
       "      <td>0.0</td>\n",
       "      <td>0.0</td>\n",
       "      <td>0.0</td>\n",
       "      <td>0.0</td>\n",
       "      <td>0.0</td>\n",
       "      <td>0.0</td>\n",
       "      <td>0.0</td>\n",
       "      <td>0.0</td>\n",
       "      <td>0.0</td>\n",
       "      <td>0.0</td>\n",
       "      <td>...</td>\n",
       "      <td>0.0</td>\n",
       "      <td>0.0</td>\n",
       "      <td>0.0</td>\n",
       "      <td>0.0</td>\n",
       "      <td>0.0</td>\n",
       "      <td>0.0</td>\n",
       "      <td>0.0</td>\n",
       "      <td>0.0</td>\n",
       "      <td>1.0</td>\n",
       "      <td>0.0</td>\n",
       "    </tr>\n",
       "    <tr>\n",
       "      <th>nt-oth-noncity</th>\n",
       "      <td>0.0</td>\n",
       "      <td>0.0</td>\n",
       "      <td>0.0</td>\n",
       "      <td>0.0</td>\n",
       "      <td>0.0</td>\n",
       "      <td>0.0</td>\n",
       "      <td>0.0</td>\n",
       "      <td>0.0</td>\n",
       "      <td>0.0</td>\n",
       "      <td>0.0</td>\n",
       "      <td>...</td>\n",
       "      <td>0.0</td>\n",
       "      <td>0.0</td>\n",
       "      <td>0.0</td>\n",
       "      <td>0.0</td>\n",
       "      <td>0.0</td>\n",
       "      <td>0.0</td>\n",
       "      <td>0.0</td>\n",
       "      <td>0.0</td>\n",
       "      <td>0.0</td>\n",
       "      <td>1.0</td>\n",
       "    </tr>\n",
       "  </tbody>\n",
       "</table>\n",
       "<p>89 rows × 56 columns</p>\n",
       "</div>\n",
       "      <button class=\"colab-df-convert\" onclick=\"convertToInteractive('df-ae053725-3b74-423e-b72e-e506d66d3ffa')\"\n",
       "              title=\"Convert this dataframe to an interactive table.\"\n",
       "              style=\"display:none;\">\n",
       "        \n",
       "  <svg xmlns=\"http://www.w3.org/2000/svg\" height=\"24px\"viewBox=\"0 0 24 24\"\n",
       "       width=\"24px\">\n",
       "    <path d=\"M0 0h24v24H0V0z\" fill=\"none\"/>\n",
       "    <path d=\"M18.56 5.44l.94 2.06.94-2.06 2.06-.94-2.06-.94-.94-2.06-.94 2.06-2.06.94zm-11 1L8.5 8.5l.94-2.06 2.06-.94-2.06-.94L8.5 2.5l-.94 2.06-2.06.94zm10 10l.94 2.06.94-2.06 2.06-.94-2.06-.94-.94-2.06-.94 2.06-2.06.94z\"/><path d=\"M17.41 7.96l-1.37-1.37c-.4-.4-.92-.59-1.43-.59-.52 0-1.04.2-1.43.59L10.3 9.45l-7.72 7.72c-.78.78-.78 2.05 0 2.83L4 21.41c.39.39.9.59 1.41.59.51 0 1.02-.2 1.41-.59l7.78-7.78 2.81-2.81c.8-.78.8-2.07 0-2.86zM5.41 20L4 18.59l7.72-7.72 1.47 1.35L5.41 20z\"/>\n",
       "  </svg>\n",
       "      </button>\n",
       "      \n",
       "  <style>\n",
       "    .colab-df-container {\n",
       "      display:flex;\n",
       "      flex-wrap:wrap;\n",
       "      gap: 12px;\n",
       "    }\n",
       "\n",
       "    .colab-df-convert {\n",
       "      background-color: #E8F0FE;\n",
       "      border: none;\n",
       "      border-radius: 50%;\n",
       "      cursor: pointer;\n",
       "      display: none;\n",
       "      fill: #1967D2;\n",
       "      height: 32px;\n",
       "      padding: 0 0 0 0;\n",
       "      width: 32px;\n",
       "    }\n",
       "\n",
       "    .colab-df-convert:hover {\n",
       "      background-color: #E2EBFA;\n",
       "      box-shadow: 0px 1px 2px rgba(60, 64, 67, 0.3), 0px 1px 3px 1px rgba(60, 64, 67, 0.15);\n",
       "      fill: #174EA6;\n",
       "    }\n",
       "\n",
       "    [theme=dark] .colab-df-convert {\n",
       "      background-color: #3B4455;\n",
       "      fill: #D2E3FC;\n",
       "    }\n",
       "\n",
       "    [theme=dark] .colab-df-convert:hover {\n",
       "      background-color: #434B5C;\n",
       "      box-shadow: 0px 1px 3px 1px rgba(0, 0, 0, 0.15);\n",
       "      filter: drop-shadow(0px 1px 2px rgba(0, 0, 0, 0.3));\n",
       "      fill: #FFFFFF;\n",
       "    }\n",
       "  </style>\n",
       "\n",
       "      <script>\n",
       "        const buttonEl =\n",
       "          document.querySelector('#df-ae053725-3b74-423e-b72e-e506d66d3ffa button.colab-df-convert');\n",
       "        buttonEl.style.display =\n",
       "          google.colab.kernel.accessAllowed ? 'block' : 'none';\n",
       "\n",
       "        async function convertToInteractive(key) {\n",
       "          const element = document.querySelector('#df-ae053725-3b74-423e-b72e-e506d66d3ffa');\n",
       "          const dataTable =\n",
       "            await google.colab.kernel.invokeFunction('convertToInteractive',\n",
       "                                                     [key], {});\n",
       "          if (!dataTable) return;\n",
       "\n",
       "          const docLinkHtml = 'Like what you see? Visit the ' +\n",
       "            '<a target=\"_blank\" href=https://colab.research.google.com/notebooks/data_table.ipynb>data table notebook</a>'\n",
       "            + ' to learn more about interactive tables.';\n",
       "          element.innerHTML = '';\n",
       "          dataTable['output_type'] = 'display_data';\n",
       "          await google.colab.output.renderOutput(dataTable, element);\n",
       "          const docLink = document.createElement('div');\n",
       "          docLink.innerHTML = docLinkHtml;\n",
       "          element.appendChild(docLink);\n",
       "        }\n",
       "      </script>\n",
       "    </div>\n",
       "  </div>\n",
       "  "
      ],
      "text/plain": [
       "                 nsw-hol-city  nsw-hol-noncity  vic-hol-city  vic-hol-noncity  \\\n",
       "total                     1.0              1.0           1.0              1.0   \n",
       "hol                       1.0              1.0           1.0              1.0   \n",
       "vfr                       0.0              0.0           0.0              0.0   \n",
       "bus                       0.0              0.0           0.0              0.0   \n",
       "oth                       0.0              0.0           0.0              0.0   \n",
       "...                       ...              ...           ...              ...   \n",
       "wa-oth-noncity            0.0              0.0           0.0              0.0   \n",
       "tas-oth-city              0.0              0.0           0.0              0.0   \n",
       "tas-oth-noncity           0.0              0.0           0.0              0.0   \n",
       "nt-oth-city               0.0              0.0           0.0              0.0   \n",
       "nt-oth-noncity            0.0              0.0           0.0              0.0   \n",
       "\n",
       "                 qld-hol-city  qld-hol-noncity  sa-hol-city  sa-hol-noncity  \\\n",
       "total                     1.0              1.0          1.0             1.0   \n",
       "hol                       1.0              1.0          1.0             1.0   \n",
       "vfr                       0.0              0.0          0.0             0.0   \n",
       "bus                       0.0              0.0          0.0             0.0   \n",
       "oth                       0.0              0.0          0.0             0.0   \n",
       "...                       ...              ...          ...             ...   \n",
       "wa-oth-noncity            0.0              0.0          0.0             0.0   \n",
       "tas-oth-city              0.0              0.0          0.0             0.0   \n",
       "tas-oth-noncity           0.0              0.0          0.0             0.0   \n",
       "nt-oth-city               0.0              0.0          0.0             0.0   \n",
       "nt-oth-noncity            0.0              0.0          0.0             0.0   \n",
       "\n",
       "                 wa-hol-city  wa-hol-noncity  ...  qld-oth-city  \\\n",
       "total                    1.0             1.0  ...           1.0   \n",
       "hol                      1.0             1.0  ...           0.0   \n",
       "vfr                      0.0             0.0  ...           0.0   \n",
       "bus                      0.0             0.0  ...           0.0   \n",
       "oth                      0.0             0.0  ...           1.0   \n",
       "...                      ...             ...  ...           ...   \n",
       "wa-oth-noncity           0.0             0.0  ...           0.0   \n",
       "tas-oth-city             0.0             0.0  ...           0.0   \n",
       "tas-oth-noncity          0.0             0.0  ...           0.0   \n",
       "nt-oth-city              0.0             0.0  ...           0.0   \n",
       "nt-oth-noncity           0.0             0.0  ...           0.0   \n",
       "\n",
       "                 qld-oth-noncity  sa-oth-city  sa-oth-noncity  wa-oth-city  \\\n",
       "total                        1.0          1.0             1.0          1.0   \n",
       "hol                          0.0          0.0             0.0          0.0   \n",
       "vfr                          0.0          0.0             0.0          0.0   \n",
       "bus                          0.0          0.0             0.0          0.0   \n",
       "oth                          1.0          1.0             1.0          1.0   \n",
       "...                          ...          ...             ...          ...   \n",
       "wa-oth-noncity               0.0          0.0             0.0          0.0   \n",
       "tas-oth-city                 0.0          0.0             0.0          0.0   \n",
       "tas-oth-noncity              0.0          0.0             0.0          0.0   \n",
       "nt-oth-city                  0.0          0.0             0.0          0.0   \n",
       "nt-oth-noncity               0.0          0.0             0.0          0.0   \n",
       "\n",
       "                 wa-oth-noncity  tas-oth-city  tas-oth-noncity  nt-oth-city  \\\n",
       "total                       1.0           1.0              1.0          1.0   \n",
       "hol                         0.0           0.0              0.0          0.0   \n",
       "vfr                         0.0           0.0              0.0          0.0   \n",
       "bus                         0.0           0.0              0.0          0.0   \n",
       "oth                         1.0           1.0              1.0          1.0   \n",
       "...                         ...           ...              ...          ...   \n",
       "wa-oth-noncity              1.0           0.0              0.0          0.0   \n",
       "tas-oth-city                0.0           1.0              0.0          0.0   \n",
       "tas-oth-noncity             0.0           0.0              1.0          0.0   \n",
       "nt-oth-city                 0.0           0.0              0.0          1.0   \n",
       "nt-oth-noncity              0.0           0.0              0.0          0.0   \n",
       "\n",
       "                 nt-oth-noncity  \n",
       "total                       1.0  \n",
       "hol                         0.0  \n",
       "vfr                         0.0  \n",
       "bus                         0.0  \n",
       "oth                         1.0  \n",
       "...                         ...  \n",
       "wa-oth-noncity              0.0  \n",
       "tas-oth-city                0.0  \n",
       "tas-oth-noncity             0.0  \n",
       "nt-oth-city                 0.0  \n",
       "nt-oth-noncity              1.0  \n",
       "\n",
       "[89 rows x 56 columns]"
      ]
     },
     "execution_count": 10,
     "metadata": {},
     "output_type": "execute_result"
    }
   ],
   "source": [
    "# S\n",
    "np.save(open('S_tensor.npy', 'wb'), S_df)\n",
    "S_df"
   ]
  },
  {
   "cell_type": "code",
   "execution_count": null,
   "id": "fm4zupauodg7",
   "metadata": {
    "id": "fm4zupauodg7"
   },
   "outputs": [],
   "source": [
    "# y_hat\n",
    "y_i = Y_hat_df.reset_index()\n",
    "y_hat = pd.pivot(y_i, index='unique_id', columns='ds', values='AutoARIMA').to_numpy()\n",
    "np.save(open('yhat_tensor.npy', 'wb'), y_hat)\n"
   ]
  },
  {
   "cell_type": "code",
   "execution_count": null,
   "id": "sjK4KRpupITh",
   "metadata": {
    "id": "sjK4KRpupITh"
   },
   "outputs": [],
   "source": [
    "# gt\n",
    "gt_i = Y_test_df.reset_index()\n",
    "gt = pd.pivot(gt_i, index='unique_id', columns='ds', values='y').to_numpy()\n",
    "np.save(open('gt_tensor.npy', 'wb'), gt)"
   ]
  },
  {
   "cell_type": "code",
   "execution_count": null,
   "id": "_ELRU981pb8k",
   "metadata": {
    "id": "_ELRU981pb8k"
   },
   "outputs": [],
   "source": [
    "# parent list\n",
    "node_map = {}\n",
    "node_map_inv = {}\n",
    "\n",
    "i = 0\n",
    "\n",
    "for l in ['Country/Purpose/State/CityNonCity', 'Country/Purpose/State', 'Country/Purpose', 'Country']:\n",
    "    for c in tags[l]:\n",
    "        node_map[i] = c\n",
    "        node_map_inv[c] = i\n",
    "        i += 1\n",
    "        "
   ]
  },
  {
   "cell_type": "code",
   "execution_count": null,
   "id": "WipuTZF_pqPq",
   "metadata": {
    "colab": {
     "base_uri": "https://localhost:8080/"
    },
    "id": "WipuTZF_pqPq",
    "outputId": "5c2f8fa1-67ad-4e29-bc0e-2310227554eb"
   },
   "outputs": [
    {
     "name": "stdout",
     "output_type": "stream",
     "text": [
      "hol\n"
     ]
    }
   ],
   "source": [
    "def findParent(i):\n",
    "  if i in tags['Country/Purpose/State/CityNonCity']:\n",
    "    cut = i.rfind('-')\n",
    "    return i[:cut]\n",
    "  if i in tags['Country/Purpose/State']:\n",
    "    cut = i.rfind('-')\n",
    "    return i[cut+1:]\n",
    "  if i in tags['Country/Purpose']:\n",
    "    return 'total'\n",
    "print(findParent('nsw-hol'))"
   ]
  },
  {
   "cell_type": "code",
   "execution_count": null,
   "id": "hbswku2KqYIC",
   "metadata": {
    "id": "hbswku2KqYIC"
   },
   "outputs": [],
   "source": [
    "parent_list = []\n",
    "\n",
    "for i, ro in S_df.iterrows():\n",
    "    if i in tags['Country/Purpose/State/CityNonCity']:\n",
    "      lv3 = i\n",
    "      lv2 = findParent(i)\n",
    "      lv1 = findParent(lv2)\n",
    "      lv0 = findParent(lv1)\n",
    "      parent_list.append([node_map_inv[lv3], node_map_inv[lv2], node_map_inv[lv1], node_map_inv[lv0]])\n",
    "    elif i in tags['Country/Purpose/State']:\n",
    "      lv2 = i\n",
    "      lv1 = findParent(lv2)\n",
    "      lv0 = findParent(lv1)\n",
    "      parent_list.append([node_map_inv[lv2], node_map_inv[lv1], node_map_inv[lv0], -1])\n",
    "    elif i in tags['Country/Purpose']:\n",
    "      lv1 = i\n",
    "      lv0 = findParent(lv1)\n",
    "      parent_list.append([node_map_inv[lv1], node_map_inv[lv0], -1, -1])\n",
    "    else:\n",
    "      parent_list.append([node_map_inv[i], -1, -1, -1])\n",
    "parent_list = sorted(parent_list, key=lambda x: x[0])\n",
    "    "
   ]
  },
  {
   "cell_type": "code",
   "execution_count": null,
   "id": "gc3cMtoUw9Jf",
   "metadata": {
    "colab": {
     "base_uri": "https://localhost:8080/"
    },
    "id": "gc3cMtoUw9Jf",
    "outputId": "0f1192d4-40c6-4136-fe3b-088c547fed69"
   },
   "outputs": [
    {
     "data": {
      "text/plain": [
       "[[0, 56, 84, 88],\n",
       " [1, 56, 84, 88],\n",
       " [2, 57, 84, 88],\n",
       " [3, 57, 84, 88],\n",
       " [4, 58, 84, 88],\n",
       " [5, 58, 84, 88],\n",
       " [6, 59, 84, 88],\n",
       " [7, 59, 84, 88],\n",
       " [8, 60, 84, 88],\n",
       " [9, 60, 84, 88],\n",
       " [10, 61, 84, 88],\n",
       " [11, 61, 84, 88],\n",
       " [12, 62, 84, 88],\n",
       " [13, 62, 84, 88],\n",
       " [14, 63, 85, 88],\n",
       " [15, 63, 85, 88],\n",
       " [16, 64, 85, 88],\n",
       " [17, 64, 85, 88],\n",
       " [18, 65, 85, 88],\n",
       " [19, 65, 85, 88],\n",
       " [20, 66, 85, 88],\n",
       " [21, 66, 85, 88],\n",
       " [22, 67, 85, 88],\n",
       " [23, 67, 85, 88],\n",
       " [24, 68, 85, 88],\n",
       " [25, 68, 85, 88],\n",
       " [26, 69, 85, 88],\n",
       " [27, 69, 85, 88],\n",
       " [28, 70, 86, 88],\n",
       " [29, 70, 86, 88],\n",
       " [30, 71, 86, 88],\n",
       " [31, 71, 86, 88],\n",
       " [32, 72, 86, 88],\n",
       " [33, 72, 86, 88],\n",
       " [34, 73, 86, 88],\n",
       " [35, 73, 86, 88],\n",
       " [36, 74, 86, 88],\n",
       " [37, 74, 86, 88],\n",
       " [38, 75, 86, 88],\n",
       " [39, 75, 86, 88],\n",
       " [40, 76, 86, 88],\n",
       " [41, 76, 86, 88],\n",
       " [42, 77, 87, 88],\n",
       " [43, 77, 87, 88],\n",
       " [44, 78, 87, 88],\n",
       " [45, 78, 87, 88],\n",
       " [46, 79, 87, 88],\n",
       " [47, 79, 87, 88],\n",
       " [48, 80, 87, 88],\n",
       " [49, 80, 87, 88],\n",
       " [50, 81, 87, 88],\n",
       " [51, 81, 87, 88],\n",
       " [52, 82, 87, 88],\n",
       " [53, 82, 87, 88],\n",
       " [54, 83, 87, 88],\n",
       " [55, 83, 87, 88],\n",
       " [56, 84, 88, -1],\n",
       " [57, 84, 88, -1],\n",
       " [58, 84, 88, -1],\n",
       " [59, 84, 88, -1],\n",
       " [60, 84, 88, -1],\n",
       " [61, 84, 88, -1],\n",
       " [62, 84, 88, -1],\n",
       " [63, 85, 88, -1],\n",
       " [64, 85, 88, -1],\n",
       " [65, 85, 88, -1],\n",
       " [66, 85, 88, -1],\n",
       " [67, 85, 88, -1],\n",
       " [68, 85, 88, -1],\n",
       " [69, 85, 88, -1],\n",
       " [70, 86, 88, -1],\n",
       " [71, 86, 88, -1],\n",
       " [72, 86, 88, -1],\n",
       " [73, 86, 88, -1],\n",
       " [74, 86, 88, -1],\n",
       " [75, 86, 88, -1],\n",
       " [76, 86, 88, -1],\n",
       " [77, 87, 88, -1],\n",
       " [78, 87, 88, -1],\n",
       " [79, 87, 88, -1],\n",
       " [80, 87, 88, -1],\n",
       " [81, 87, 88, -1],\n",
       " [82, 87, 88, -1],\n",
       " [83, 87, 88, -1],\n",
       " [84, 88, -1, -1],\n",
       " [85, 88, -1, -1],\n",
       " [86, 88, -1, -1],\n",
       " [87, 88, -1, -1],\n",
       " [88, -1, -1, -1]]"
      ]
     },
     "execution_count": 26,
     "metadata": {},
     "output_type": "execute_result"
    }
   ],
   "source": [
    "parent_list"
   ]
  },
  {
   "cell_type": "code",
   "execution_count": null,
   "id": "XvIfpaCZreDQ",
   "metadata": {
    "id": "XvIfpaCZreDQ"
   },
   "outputs": [],
   "source": [
    "np.save(open('parent.npy', 'wb'), np.array(parent_list))"
   ]
  },
  {
   "cell_type": "code",
   "execution_count": null,
   "id": "h_3Oh0nmrl1I",
   "metadata": {
    "colab": {
     "base_uri": "https://localhost:8080/"
    },
    "id": "h_3Oh0nmrl1I",
    "outputId": "89e3885a-a2e3-4f6a-c43a-98bae19eb64f"
   },
   "outputs": [
    {
     "data": {
      "text/plain": [
       "array([[ 9, 12, 13, ..., 10, 15, 11],\n",
       "       [44, 38, 38, ..., 32, 43, 33],\n",
       "       [ 3,  3,  3, ...,  3,  4,  3],\n",
       "       ...,\n",
       "       [ 2,  2,  2, ...,  2,  2,  2],\n",
       "       [ 1,  1,  1, ...,  1,  1,  1],\n",
       "       [ 0,  0,  0, ...,  0,  0,  0]])"
      ]
     },
     "execution_count": 35,
     "metadata": {},
     "output_type": "execute_result"
    }
   ],
   "source": [
    "# p\n",
    "top_down_tensor = np.zeros_like(gt)\n",
    "for l in parent_list:\n",
    "    i = l[0]\n",
    "    for c in [l[3], l[2], l[1]]:\n",
    "        if c != -1: break\n",
    "    top_down_tensor[i, :] = gt[i, :] / (gt[c, :] + 1e-9)\n",
    "top_down_tensor"
   ]
  },
  {
   "cell_type": "code",
   "execution_count": null,
   "id": "6-aYJhYLsI6q",
   "metadata": {
    "id": "6-aYJhYLsI6q"
   },
   "outputs": [],
   "source": [
    "np.save(open('top_down_tensor.npy', 'wb'), top_down_tensor)"
   ]
  },
  {
   "cell_type": "code",
   "execution_count": null,
   "id": "eOie9RDeukzf",
   "metadata": {
    "colab": {
     "base_uri": "https://localhost:8080/"
    },
    "id": "eOie9RDeukzf",
    "outputId": "dde0460a-4105-4208-f2c1-7b515ccc20bf"
   },
   "outputs": [
    {
     "data": {
      "text/plain": [
       "array([[ 26,  31,  49, ...,  52,  29,  32],\n",
       "       [119,  93, 139, ..., 159,  79,  96],\n",
       "       [  9,   9,  13, ...,  16,   8,   9],\n",
       "       ...,\n",
       "       [  2,   2,   2, ...,   2,   2,   2],\n",
       "       [  1,   1,   1, ...,   1,   1,   1],\n",
       "       [  0,   0,   0, ...,   0,   0,   0]])"
      ]
     },
     "execution_count": 34,
     "metadata": {},
     "output_type": "execute_result"
    }
   ],
   "source": [
    "level_2_tensor = np.zeros_like(gt)\n",
    "\n",
    "for l in parent_list:\n",
    "    nz = list(filter(lambda x: x!=-1, l))\n",
    "    if len(nz) == 1: continue\n",
    "    i = l[0]\n",
    "    c = l[-2]\n",
    "    level_2_tensor[i, :] = gt[i, :] / (gt[c, :] + 1e-9)\n",
    "level_2_tensor"
   ]
  },
  {
   "cell_type": "code",
   "execution_count": null,
   "id": "IC5i1fe1uqvP",
   "metadata": {
    "id": "IC5i1fe1uqvP"
   },
   "outputs": [],
   "source": [
    "np.save(open('level_2_tensor.npy', 'wb'), level_2_tensor)"
   ]
  },
  {
   "cell_type": "code",
   "execution_count": null,
   "id": "ufAMg2dmzK7F",
   "metadata": {
    "id": "ufAMg2dmzK7F"
   },
   "outputs": [],
   "source": [
    "level_3_tensor = np.zeros_like(gt)\n",
    "\n",
    "for l in parent_list:\n",
    "    nz = list(filter(lambda x: x!=-1, l))\n",
    "    if len(nz) <= 2: continue\n",
    "    i = l[0]\n",
    "    c = l[-3]\n",
    "    level_3_tensor[i, :] = gt[i, :] / (gt[c, :] + 1e-9)"
   ]
  },
  {
   "cell_type": "code",
   "execution_count": null,
   "id": "8DP0IAABzLKk",
   "metadata": {
    "id": "8DP0IAABzLKk"
   },
   "outputs": [],
   "source": [
    "np.save(open('level_3_tensor.npy', 'wb'), level_3_tensor)"
   ]
  },
  {
   "cell_type": "code",
   "execution_count": null,
   "id": "XRBpFCMZysiW",
   "metadata": {
    "id": "XRBpFCMZysiW"
   },
   "outputs": [],
   "source": [
    "N_CHUNCKS = 8\n",
    "\n",
    "for t, n in [(y_hat, 'yhat_tensor'),\n",
    "        (gt, 'gt_tensor'),\n",
    "        (top_down_tensor, 'top_down_tensor'),\n",
    "        (level_2_tensor, 'level_2_tensor'),\n",
    "        (level_3_tensor, 'level_3_tensor')]:\n",
    "  l = np.array_split(t, N_CHUNCKS)\n",
    "  for i, p in enumerate(l):\n",
    "    np.save(open('mpi/' + n + '_' + str(i) + '.npy', 'wb'), p)"
   ]
  },
  {
   "cell_type": "markdown",
   "id": "cc296762-2009-4aef-8b31-f24aad9d0787",
   "metadata": {
    "id": "cc296762-2009-4aef-8b31-f24aad9d0787"
   },
   "source": [
    "The following cell makes the previous forecasts coherent using the `HierarchicalReconciliation` class. The used methods to make the forecasts coherent are:\n",
    "- `BottomUp`: The reconciliation of the method is a simple addition to the upper levels.\n",
    "- `TopDown`: The second method constrains the base-level predictions to the top-most aggregate-level serie and then distributes it to the disaggregate series through the use of proportions. \n",
    "- `MiddleOut`: Anchors the base predictions in a middle level."
   ]
  },
  {
   "cell_type": "code",
   "execution_count": null,
   "id": "a43be9e7-99a9-4981-bfd7-8552efba9751",
   "metadata": {
    "id": "a43be9e7-99a9-4981-bfd7-8552efba9751"
   },
   "outputs": [],
   "source": [
    "reconcilers = [\n",
    "    BottomUp(),\n",
    "    TopDown(method='forecast_proportions'),\n",
    "    MiddleOut(middle_level='Country/Purpose/State', \n",
    "              top_down_method='forecast_proportions')\n",
    "]\n",
    "hrec = HierarchicalReconciliation(reconcilers=reconcilers)\n",
    "Y_rec_df = hrec.reconcile(Y_hat_df=Y_hat_df, Y_df=Y_train_df, \n",
    "                          S=S_df, tags=tags)"
   ]
  },
  {
   "cell_type": "markdown",
   "id": "03c4752c-53f8-4b1f-8169-32075b8e4050",
   "metadata": {
    "id": "03c4752c-53f8-4b1f-8169-32075b8e4050"
   },
   "source": [
    "The `HierarchicalForecast` package includes the `HierarchicalEvaluation` class to evaluate the different hierarchies and also is capable of compute scaled metrics compared to a benchmark model."
   ]
  },
  {
   "cell_type": "code",
   "execution_count": null,
   "id": "a793cff0-e6bf-469d-86d8-cf6ce7a8d922",
   "metadata": {
    "id": "a793cff0-e6bf-469d-86d8-cf6ce7a8d922"
   },
   "outputs": [],
   "source": [
    "def mse(y, y_hat):\n",
    "    return np.mean((y-y_hat)**2)\n",
    "\n",
    "evaluator = HierarchicalEvaluation(evaluators=[mse])\n",
    "evaluation = evaluator.evaluate(\n",
    "        Y_hat_df=Y_rec_df, Y_test_df=Y_test_df, \n",
    "        tags=tags, benchmark='Naive'\n",
    ")\n",
    "evaluation.filter(like='ARIMA', axis=1).T"
   ]
  },
  {
   "cell_type": "markdown",
   "id": "a51830f5",
   "metadata": {
    "id": "a51830f5"
   },
   "source": [
    "### References\n",
    "- [Orcutt, G.H., Watts, H.W., & Edwards, J.B.(1968). Data aggregation and information loss. The American \n",
    "Economic Review, 58 , 773{787)](http://www.jstor.org/stable/1815532).\n",
    "- [Disaggregation methods to expedite product line forecasting. Journal of Forecasting, 9 , 233–254. \n",
    "doi:10.1002/for.3980090304](https://onlinelibrary.wiley.com/doi/abs/10.1002/for.3980090304).<br>\n",
    "- [An investigation of aggregate variable time series forecast strategies with specific subaggregate \n",
    "time series statistical correlation. Computers and Operations Research, 26 , 1133–1149. \n",
    "doi:10.1016/S0305-0548(99)00017-9](https://doi.org/10.1016/S0305-0548(99)00017-9).\n",
    "- [Hyndman, R.J., & Athanasopoulos, G. (2021). \"Forecasting: principles and practice, 3rd edition: \n",
    "Chapter 11: Forecasting hierarchical and grouped series.\". OTexts: Melbourne, Australia. OTexts.com/fpp3 \n",
    "Accessed on July 2022.](https://otexts.com/fpp3/hierarchical.html)"
   ]
  }
 ],
 "metadata": {
  "colab": {
   "provenance": []
  },
  "kernelspec": {
   "display_name": "Python 3.10.6 ('hierarchicalforecast')",
   "language": "python",
   "name": "python3"
  }
 },
 "nbformat": 4,
 "nbformat_minor": 5
}
